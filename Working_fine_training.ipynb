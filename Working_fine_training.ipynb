{
  "nbformat": 4,
  "nbformat_minor": 0,
  "metadata": {
    "kernelspec": {
      "display_name": "Python 3",
      "language": "python",
      "name": "python3"
    },
    "language_info": {
      "codemirror_mode": {
        "name": "ipython",
        "version": 3
      },
      "file_extension": ".py",
      "mimetype": "text/x-python",
      "name": "python",
      "nbconvert_exporter": "python",
      "pygments_lexer": "ipython3",
      "version": "3.6.4"
    },
    "colab": {
      "name": "Working_fine_training",
      "provenance": [],
      "include_colab_link": true
    }
  },
  "cells": [
    {
      "cell_type": "markdown",
      "metadata": {
        "id": "view-in-github",
        "colab_type": "text"
      },
      "source": [
        "<a href=\"https://colab.research.google.com/github/spandandey21/hello-world/blob/master/Working_fine_training.ipynb\" target=\"_parent\"><img src=\"https://colab.research.google.com/assets/colab-badge.svg\" alt=\"Open In Colab\"/></a>"
      ]
    },
    {
      "cell_type": "markdown",
      "metadata": {
        "id": "Q_8421wqAtex",
        "colab_type": "text"
      },
      "source": [
        "# Helpful Functions"
      ]
    },
    {
      "cell_type": "code",
      "metadata": {
        "id": "n9ztpMxPAte2",
        "colab_type": "code",
        "colab": {}
      },
      "source": [
        "from sklearn import preprocessing\n",
        "from sklearn.metrics import classification_report, confusion_matrix  \n",
        "import matplotlib.pyplot as plt\n",
        "import numpy as np\n",
        "import pandas as pd\n",
        "import shutil\n",
        "import os\n",
        "import requests\n",
        "import base64\n",
        "\n",
        "\n",
        "# Encode text values to dummy variables(i.e. [1,0,0],[0,1,0],[0,0,1] for red,green,blue)\n",
        "def encode_text_dummy(df, name):\n",
        "    dummies = pd.get_dummies(df[name])\n",
        "    for x in dummies.columns:\n",
        "        dummy_name = \"{}-{}\".format(name, x)\n",
        "        df[dummy_name] = dummies[x]\n",
        "    df.drop(name, axis=1, inplace=True)\n",
        "\n",
        "\n",
        "# Encode text values to a single dummy variable.  The new columns (which do not replace the old) will have a 1\n",
        "# at every location where the original column (name) matches each of the target_values.  One column is added for\n",
        "# each target value.\n",
        "def encode_text_single_dummy(df, name, target_values):\n",
        "    for tv in target_values:\n",
        "        l = list(df[name].astype(str))\n",
        "        l = [1 if str(x) == str(tv) else 0 for x in l]\n",
        "        name2 = \"{}-{}\".format(name, tv)\n",
        "        df[name2] = l\n",
        "\n",
        "\n",
        "# Encode text values to indexes(i.e. [1],[2],[3] for red,green,blue).\n",
        "def encode_text_index(df, name):\n",
        "    le = preprocessing.LabelEncoder()\n",
        "    df[name] = le.fit_transform(df[name])\n",
        "    return le.classes_\n",
        "\n",
        "\n",
        "# Encode a numeric column as zscores\n",
        "def encode_numeric_zscore(df, name, mean=None, sd=None):\n",
        "    if mean is None:\n",
        "        mean = df[name].mean()\n",
        "\n",
        "    if sd is None:\n",
        "        sd = df[name].std()\n",
        "\n",
        "    df[name] = (df[name] - mean) / sd\n",
        "\n",
        "\n",
        "\n",
        "    \n",
        "    \n",
        "\n",
        "# Convert all missing values in the specified column to the median\n",
        "def missing_median(df, name):\n",
        "    med = df[name].median()\n",
        "    df[name] = df[name].fillna(med)\n",
        "\n",
        "\n",
        "# Convert all missing values in the specified column to the default\n",
        "def missing_default(df, name, default_value):\n",
        "    df[name] = df[name].fillna(default_value)\n",
        "\n",
        "\n",
        "# Convert a Pandas dataframe to the x,y inputs that TensorFlow needs\n",
        "def to_xy(df, target):\n",
        "    result = []\n",
        "    for x in df.columns:\n",
        "        if x != target:\n",
        "            result.append(x)\n",
        "    # find out the type of the target column.  Is it really this hard? :(\n",
        "    target_type = df[target].dtypes\n",
        "    target_type = target_type[0] if hasattr(target_type, '__iter__') else target_type\n",
        "    # Encode to int for classification, float otherwise. TensorFlow likes 32 bits.\n",
        "    if target_type in (np.int64, np.int32):\n",
        "        # Classification\n",
        "        dummies = pd.get_dummies(df[target])\n",
        "        return df.as_matrix(result).astype(np.float32), dummies.as_matrix().astype(np.float32)\n",
        "    else:\n",
        "        # Regression\n",
        "        return df.as_matrix(result).astype(np.float32), df.as_matrix([target]).astype(np.float32)\n",
        "\n",
        "# Nicely formatted time string\n",
        "def hms_string(sec_elapsed):\n",
        "    h = int(sec_elapsed / (60 * 60))\n",
        "    m = int((sec_elapsed % (60 * 60)) / 60)\n",
        "    s = sec_elapsed % 60\n",
        "    return \"{}:{:>02}:{:>05.2f}\".format(h, m, s)\n",
        "\n",
        "\n",
        "# Regression chart.\n",
        "def chart_regression(pred,y,sort=True):\n",
        "    t = pd.DataFrame({'pred' : pred, 'y' : y.flatten()})\n",
        "    if sort:\n",
        "        t.sort_values(by=['y'],inplace=True)\n",
        "    a = plt.plot(t['y'].tolist(),label='expected')\n",
        "    b = plt.plot(t['pred'].tolist(),label='prediction')\n",
        "    plt.ylabel('output')\n",
        "    plt.legend()\n",
        "    plt.show()\n",
        "\n",
        "# Remove all rows where the specified column is +/- sd standard deviations\n",
        "def remove_outliers(df, name, sd):\n",
        "    drop_rows = df.index[(np.abs(df[name] - df[name].mean()) >= (sd * df[name].std()))]\n",
        "    df.drop(drop_rows, axis=0, inplace=True)\n",
        "\n",
        "\n",
        "# Encode a column to a range between normalized_low and normalized_high.\n",
        "def encode_numeric_range(df, name, normalized_low=-1, normalized_high=1,\n",
        "                         data_low=None, data_high=None):\n",
        "    if data_low is None:\n",
        "        data_low = min(df[name])\n",
        "        data_high = max(df[name])\n",
        "\n",
        "    df[name] = ((df[name] - data_low) / (data_high - data_low)) \\\n",
        "               * (normalized_high - normalized_low) + normalized_low"
      ],
      "execution_count": 0,
      "outputs": []
    },
    {
      "cell_type": "markdown",
      "metadata": {
        "id": "GumOQmNUAte7",
        "colab_type": "text"
      },
      "source": [
        "## Reading Data"
      ]
    },
    {
      "cell_type": "code",
      "metadata": {
        "id": "6hA20mwoAte8",
        "colab_type": "code",
        "outputId": "7257ebdb-6651-4be2-fed5-a9d8cd3162cb",
        "colab": {
          "base_uri": "https://localhost:8080/",
          "height": 34
        }
      },
      "source": [
        "import pandas as pd\n",
        "import io\n",
        "import requests\n",
        "import numpy as np\n",
        "import os\n",
        "from sklearn.model_selection import train_test_split\n",
        "from sklearn import metrics\n",
        "from keras.models import Sequential\n",
        "from keras.layers.core import Dense, Activation\n",
        "from keras.callbacks import EarlyStopping\n",
        "\n",
        "\n",
        "#from google.colab import files\n",
        "#uploaded = files.upload()\n",
        "#df1 = pd.read_csv(io.BytesIO(uploaded['Bangla.csv']))\n",
        "#df2 = pd.read_csv(io.BytesIO(uploaded['English.csv']))\n",
        "df1=pd.read_csv(\"Bangla.csv\",na_values=['NA','?'])\n",
        "df2=pd.read_csv(\"English.csv\",na_values=['NA','?'])\n",
        "\n",
        "#path = \"./data/\"\n",
        "    \n",
        "#filename1 = os.path.join(path,\"s1_c.csv\")    \n",
        "#df1 = pd.read_csv(filename1,na_values=['NA','?'])\n",
        "\n",
        "#filename2 = os.path.join(path,\"s2_c.csv\")    \n",
        "#df2 = pd.read_csv(filename2,na_values=['NA','?'])\n",
        "frames = [df1, df2]\n",
        "df = pd.concat(frames, keys=['x', 'y'])\n",
        "\n",
        "# Shuffle\n",
        "np.random.seed(42)\n",
        "df = df.reindex(np.random.permutation(df.index))\n",
        "df.reset_index(inplace=True, drop=True)\n",
        "\n",
        "\n",
        "signal = encode_text_index(df,\"signal\")\n",
        "x,y = to_xy(df,\"signal\")\n",
        "\n",
        "# Keep a 20% holdout\n",
        "x_main, x_holdout, y_main, y_holdout = train_test_split(\n",
        "    x, y, test_size=0.2) \n",
        "\n",
        "\n",
        "# Split into train/test\n",
        "x_train, x_test, y_train, y_test = train_test_split(\n",
        "    x_main, y_main, test_size=0.2, random_state=42)"
      ],
      "execution_count": 0,
      "outputs": [
        {
          "output_type": "stream",
          "text": [
            "/usr/local/lib/python3.6/dist-packages/ipykernel_launcher.py:78: FutureWarning: Method .as_matrix will be removed in a future version. Use .values instead.\n"
          ],
          "name": "stderr"
        }
      ]
    },
    {
      "cell_type": "code",
      "metadata": {
        "id": "P2n5zVCTAtfA",
        "colab_type": "code",
        "outputId": "379a70fe-efd0-416e-ab7e-3ac6700e5f97",
        "colab": {
          "base_uri": "https://localhost:8080/",
          "height": 419
        }
      },
      "source": [
        "df1\n"
      ],
      "execution_count": 0,
      "outputs": [
        {
          "output_type": "execute_result",
          "data": {
            "text/html": [
              "<div>\n",
              "<style scoped>\n",
              "    .dataframe tbody tr th:only-of-type {\n",
              "        vertical-align: middle;\n",
              "    }\n",
              "\n",
              "    .dataframe tbody tr th {\n",
              "        vertical-align: top;\n",
              "    }\n",
              "\n",
              "    .dataframe thead th {\n",
              "        text-align: right;\n",
              "    }\n",
              "</style>\n",
              "<table border=\"1\" class=\"dataframe\">\n",
              "  <thead>\n",
              "    <tr style=\"text-align: right;\">\n",
              "      <th></th>\n",
              "      <th>S1</th>\n",
              "      <th>S2</th>\n",
              "      <th>S3</th>\n",
              "      <th>S4</th>\n",
              "      <th>S5</th>\n",
              "      <th>S6</th>\n",
              "      <th>S7</th>\n",
              "      <th>S8</th>\n",
              "      <th>S9</th>\n",
              "      <th>S10</th>\n",
              "      <th>S11</th>\n",
              "      <th>S12</th>\n",
              "      <th>S13</th>\n",
              "      <th>signal</th>\n",
              "    </tr>\n",
              "  </thead>\n",
              "  <tbody>\n",
              "    <tr>\n",
              "      <th>0</th>\n",
              "      <td>21.679432</td>\n",
              "      <td>1.504479</td>\n",
              "      <td>-9.957744</td>\n",
              "      <td>6.751679</td>\n",
              "      <td>-6.002940</td>\n",
              "      <td>6.807267</td>\n",
              "      <td>-2.029461</td>\n",
              "      <td>13.809511</td>\n",
              "      <td>9.941748</td>\n",
              "      <td>16.909974</td>\n",
              "      <td>5.348232</td>\n",
              "      <td>0.328209</td>\n",
              "      <td>-8.071477</td>\n",
              "      <td>Bangla</td>\n",
              "    </tr>\n",
              "    <tr>\n",
              "      <th>1</th>\n",
              "      <td>22.317693</td>\n",
              "      <td>0.287187</td>\n",
              "      <td>-9.879319</td>\n",
              "      <td>7.738654</td>\n",
              "      <td>-6.140203</td>\n",
              "      <td>7.362541</td>\n",
              "      <td>1.890642</td>\n",
              "      <td>17.393305</td>\n",
              "      <td>16.327391</td>\n",
              "      <td>24.916220</td>\n",
              "      <td>15.661765</td>\n",
              "      <td>2.796100</td>\n",
              "      <td>-14.148841</td>\n",
              "      <td>Bangla</td>\n",
              "    </tr>\n",
              "    <tr>\n",
              "      <th>2</th>\n",
              "      <td>22.532872</td>\n",
              "      <td>0.758670</td>\n",
              "      <td>-9.888254</td>\n",
              "      <td>8.185273</td>\n",
              "      <td>-5.043289</td>\n",
              "      <td>8.578440</td>\n",
              "      <td>0.975402</td>\n",
              "      <td>15.029722</td>\n",
              "      <td>13.541073</td>\n",
              "      <td>22.887587</td>\n",
              "      <td>13.270690</td>\n",
              "      <td>3.681292</td>\n",
              "      <td>-12.629527</td>\n",
              "      <td>Bangla</td>\n",
              "    </tr>\n",
              "    <tr>\n",
              "      <th>3</th>\n",
              "      <td>22.743923</td>\n",
              "      <td>0.901887</td>\n",
              "      <td>-10.181835</td>\n",
              "      <td>7.861210</td>\n",
              "      <td>-5.523244</td>\n",
              "      <td>9.158475</td>\n",
              "      <td>1.240076</td>\n",
              "      <td>14.818314</td>\n",
              "      <td>9.953380</td>\n",
              "      <td>18.919487</td>\n",
              "      <td>9.761265</td>\n",
              "      <td>-0.033846</td>\n",
              "      <td>-13.066207</td>\n",
              "      <td>Bangla</td>\n",
              "    </tr>\n",
              "    <tr>\n",
              "      <th>4</th>\n",
              "      <td>22.805387</td>\n",
              "      <td>1.342649</td>\n",
              "      <td>-9.418506</td>\n",
              "      <td>6.871316</td>\n",
              "      <td>-6.178653</td>\n",
              "      <td>7.622323</td>\n",
              "      <td>2.249028</td>\n",
              "      <td>15.520012</td>\n",
              "      <td>9.847824</td>\n",
              "      <td>19.792311</td>\n",
              "      <td>14.239703</td>\n",
              "      <td>-0.698241</td>\n",
              "      <td>-14.182394</td>\n",
              "      <td>Bangla</td>\n",
              "    </tr>\n",
              "    <tr>\n",
              "      <th>...</th>\n",
              "      <td>...</td>\n",
              "      <td>...</td>\n",
              "      <td>...</td>\n",
              "      <td>...</td>\n",
              "      <td>...</td>\n",
              "      <td>...</td>\n",
              "      <td>...</td>\n",
              "      <td>...</td>\n",
              "      <td>...</td>\n",
              "      <td>...</td>\n",
              "      <td>...</td>\n",
              "      <td>...</td>\n",
              "      <td>...</td>\n",
              "      <td>...</td>\n",
              "    </tr>\n",
              "    <tr>\n",
              "      <th>4314</th>\n",
              "      <td>22.546971</td>\n",
              "      <td>2.160500</td>\n",
              "      <td>-9.836560</td>\n",
              "      <td>6.929788</td>\n",
              "      <td>-7.864586</td>\n",
              "      <td>6.985059</td>\n",
              "      <td>-3.295849</td>\n",
              "      <td>3.538401</td>\n",
              "      <td>-8.700346</td>\n",
              "      <td>-3.784008</td>\n",
              "      <td>-8.629158</td>\n",
              "      <td>0.844142</td>\n",
              "      <td>0.355255</td>\n",
              "      <td>Bangla</td>\n",
              "    </tr>\n",
              "    <tr>\n",
              "      <th>4315</th>\n",
              "      <td>22.151003</td>\n",
              "      <td>2.511947</td>\n",
              "      <td>-9.439595</td>\n",
              "      <td>7.880640</td>\n",
              "      <td>-7.551974</td>\n",
              "      <td>6.231159</td>\n",
              "      <td>-3.677819</td>\n",
              "      <td>6.861044</td>\n",
              "      <td>-6.599741</td>\n",
              "      <td>-2.335452</td>\n",
              "      <td>-5.473506</td>\n",
              "      <td>-0.161824</td>\n",
              "      <td>-0.121897</td>\n",
              "      <td>Bangla</td>\n",
              "    </tr>\n",
              "    <tr>\n",
              "      <th>4316</th>\n",
              "      <td>22.018945</td>\n",
              "      <td>2.603444</td>\n",
              "      <td>-9.315688</td>\n",
              "      <td>9.468042</td>\n",
              "      <td>-5.692170</td>\n",
              "      <td>7.370515</td>\n",
              "      <td>-6.362984</td>\n",
              "      <td>8.010874</td>\n",
              "      <td>-6.433576</td>\n",
              "      <td>-5.195874</td>\n",
              "      <td>-11.393312</td>\n",
              "      <td>3.105475</td>\n",
              "      <td>-1.804967</td>\n",
              "      <td>Bangla</td>\n",
              "    </tr>\n",
              "    <tr>\n",
              "      <th>4317</th>\n",
              "      <td>22.285112</td>\n",
              "      <td>2.764023</td>\n",
              "      <td>-9.123929</td>\n",
              "      <td>9.345041</td>\n",
              "      <td>-5.697530</td>\n",
              "      <td>6.962715</td>\n",
              "      <td>-6.329002</td>\n",
              "      <td>8.447740</td>\n",
              "      <td>-2.695686</td>\n",
              "      <td>-0.722245</td>\n",
              "      <td>-9.054281</td>\n",
              "      <td>3.480604</td>\n",
              "      <td>-1.945926</td>\n",
              "      <td>Bangla</td>\n",
              "    </tr>\n",
              "    <tr>\n",
              "      <th>4318</th>\n",
              "      <td>22.214383</td>\n",
              "      <td>2.308176</td>\n",
              "      <td>-9.880267</td>\n",
              "      <td>7.920375</td>\n",
              "      <td>-5.508975</td>\n",
              "      <td>7.983038</td>\n",
              "      <td>-4.095980</td>\n",
              "      <td>9.093023</td>\n",
              "      <td>1.264502</td>\n",
              "      <td>7.420382</td>\n",
              "      <td>-3.366185</td>\n",
              "      <td>1.569070</td>\n",
              "      <td>-4.970707</td>\n",
              "      <td>Bangla</td>\n",
              "    </tr>\n",
              "  </tbody>\n",
              "</table>\n",
              "<p>4319 rows × 14 columns</p>\n",
              "</div>"
            ],
            "text/plain": [
              "             S1        S2         S3  ...       S12        S13  signal\n",
              "0     21.679432  1.504479  -9.957744  ...  0.328209  -8.071477  Bangla\n",
              "1     22.317693  0.287187  -9.879319  ...  2.796100 -14.148841  Bangla\n",
              "2     22.532872  0.758670  -9.888254  ...  3.681292 -12.629527  Bangla\n",
              "3     22.743923  0.901887 -10.181835  ... -0.033846 -13.066207  Bangla\n",
              "4     22.805387  1.342649  -9.418506  ... -0.698241 -14.182394  Bangla\n",
              "...         ...       ...        ...  ...       ...        ...     ...\n",
              "4314  22.546971  2.160500  -9.836560  ...  0.844142   0.355255  Bangla\n",
              "4315  22.151003  2.511947  -9.439595  ... -0.161824  -0.121897  Bangla\n",
              "4316  22.018945  2.603444  -9.315688  ...  3.105475  -1.804967  Bangla\n",
              "4317  22.285112  2.764023  -9.123929  ...  3.480604  -1.945926  Bangla\n",
              "4318  22.214383  2.308176  -9.880267  ...  1.569070  -4.970707  Bangla\n",
              "\n",
              "[4319 rows x 14 columns]"
            ]
          },
          "metadata": {
            "tags": []
          },
          "execution_count": 6
        }
      ]
    },
    {
      "cell_type": "code",
      "metadata": {
        "id": "T4C1_KvJAtfG",
        "colab_type": "code",
        "outputId": "5e552a06-406a-4bb1-aaac-9b9294dab6d1",
        "colab": {
          "base_uri": "https://localhost:8080/",
          "height": 419
        }
      },
      "source": [
        "df2"
      ],
      "execution_count": 0,
      "outputs": [
        {
          "output_type": "execute_result",
          "data": {
            "text/html": [
              "<div>\n",
              "<style scoped>\n",
              "    .dataframe tbody tr th:only-of-type {\n",
              "        vertical-align: middle;\n",
              "    }\n",
              "\n",
              "    .dataframe tbody tr th {\n",
              "        vertical-align: top;\n",
              "    }\n",
              "\n",
              "    .dataframe thead th {\n",
              "        text-align: right;\n",
              "    }\n",
              "</style>\n",
              "<table border=\"1\" class=\"dataframe\">\n",
              "  <thead>\n",
              "    <tr style=\"text-align: right;\">\n",
              "      <th></th>\n",
              "      <th>S1</th>\n",
              "      <th>S2</th>\n",
              "      <th>S3</th>\n",
              "      <th>S4</th>\n",
              "      <th>S5</th>\n",
              "      <th>S6</th>\n",
              "      <th>S7</th>\n",
              "      <th>S8</th>\n",
              "      <th>S9</th>\n",
              "      <th>S10</th>\n",
              "      <th>S11</th>\n",
              "      <th>S12</th>\n",
              "      <th>S13</th>\n",
              "      <th>signal</th>\n",
              "    </tr>\n",
              "  </thead>\n",
              "  <tbody>\n",
              "    <tr>\n",
              "      <th>0</th>\n",
              "      <td>21.490396</td>\n",
              "      <td>2.978830</td>\n",
              "      <td>-9.115631</td>\n",
              "      <td>6.297544</td>\n",
              "      <td>-7.719752</td>\n",
              "      <td>5.801105</td>\n",
              "      <td>-4.460626</td>\n",
              "      <td>2.087003</td>\n",
              "      <td>-10.115062</td>\n",
              "      <td>-2.318203</td>\n",
              "      <td>-3.981129</td>\n",
              "      <td>3.263657</td>\n",
              "      <td>2.224177</td>\n",
              "      <td>English</td>\n",
              "    </tr>\n",
              "    <tr>\n",
              "      <th>1</th>\n",
              "      <td>21.997601</td>\n",
              "      <td>2.553598</td>\n",
              "      <td>-9.380871</td>\n",
              "      <td>5.571617</td>\n",
              "      <td>-9.227934</td>\n",
              "      <td>4.549457</td>\n",
              "      <td>-5.865238</td>\n",
              "      <td>0.767156</td>\n",
              "      <td>-14.318335</td>\n",
              "      <td>-7.634783</td>\n",
              "      <td>-7.080810</td>\n",
              "      <td>2.778006</td>\n",
              "      <td>4.924817</td>\n",
              "      <td>English</td>\n",
              "    </tr>\n",
              "    <tr>\n",
              "      <th>2</th>\n",
              "      <td>22.152114</td>\n",
              "      <td>1.920662</td>\n",
              "      <td>-9.998520</td>\n",
              "      <td>5.875681</td>\n",
              "      <td>-9.426330</td>\n",
              "      <td>5.038416</td>\n",
              "      <td>-8.144152</td>\n",
              "      <td>-1.563014</td>\n",
              "      <td>-15.456012</td>\n",
              "      <td>-8.583584</td>\n",
              "      <td>-12.571506</td>\n",
              "      <td>3.003632</td>\n",
              "      <td>5.229453</td>\n",
              "      <td>English</td>\n",
              "    </tr>\n",
              "    <tr>\n",
              "      <th>3</th>\n",
              "      <td>22.231372</td>\n",
              "      <td>1.591383</td>\n",
              "      <td>-9.629861</td>\n",
              "      <td>8.690586</td>\n",
              "      <td>-9.597754</td>\n",
              "      <td>4.532085</td>\n",
              "      <td>-10.326629</td>\n",
              "      <td>-4.147025</td>\n",
              "      <td>-16.292237</td>\n",
              "      <td>-10.662058</td>\n",
              "      <td>-14.141704</td>\n",
              "      <td>2.965400</td>\n",
              "      <td>7.031065</td>\n",
              "      <td>English</td>\n",
              "    </tr>\n",
              "    <tr>\n",
              "      <th>4</th>\n",
              "      <td>22.128014</td>\n",
              "      <td>1.417125</td>\n",
              "      <td>-9.122610</td>\n",
              "      <td>10.117081</td>\n",
              "      <td>-9.859915</td>\n",
              "      <td>3.789268</td>\n",
              "      <td>-10.312080</td>\n",
              "      <td>-3.647807</td>\n",
              "      <td>-18.229951</td>\n",
              "      <td>-14.416322</td>\n",
              "      <td>-12.587735</td>\n",
              "      <td>1.619900</td>\n",
              "      <td>7.867142</td>\n",
              "      <td>English</td>\n",
              "    </tr>\n",
              "    <tr>\n",
              "      <th>...</th>\n",
              "      <td>...</td>\n",
              "      <td>...</td>\n",
              "      <td>...</td>\n",
              "      <td>...</td>\n",
              "      <td>...</td>\n",
              "      <td>...</td>\n",
              "      <td>...</td>\n",
              "      <td>...</td>\n",
              "      <td>...</td>\n",
              "      <td>...</td>\n",
              "      <td>...</td>\n",
              "      <td>...</td>\n",
              "      <td>...</td>\n",
              "      <td>...</td>\n",
              "    </tr>\n",
              "    <tr>\n",
              "      <th>4314</th>\n",
              "      <td>21.141941</td>\n",
              "      <td>2.332814</td>\n",
              "      <td>-10.227407</td>\n",
              "      <td>6.396827</td>\n",
              "      <td>-7.470780</td>\n",
              "      <td>6.609615</td>\n",
              "      <td>-4.744974</td>\n",
              "      <td>4.950138</td>\n",
              "      <td>-7.924801</td>\n",
              "      <td>0.373726</td>\n",
              "      <td>-4.261428</td>\n",
              "      <td>-0.037490</td>\n",
              "      <td>-2.699396</td>\n",
              "      <td>English</td>\n",
              "    </tr>\n",
              "    <tr>\n",
              "      <th>4315</th>\n",
              "      <td>21.114221</td>\n",
              "      <td>2.150977</td>\n",
              "      <td>-10.359617</td>\n",
              "      <td>6.411745</td>\n",
              "      <td>-8.707929</td>\n",
              "      <td>4.700196</td>\n",
              "      <td>-6.440248</td>\n",
              "      <td>3.727142</td>\n",
              "      <td>-9.920915</td>\n",
              "      <td>-1.984913</td>\n",
              "      <td>-4.754298</td>\n",
              "      <td>-2.281805</td>\n",
              "      <td>-4.442828</td>\n",
              "      <td>English</td>\n",
              "    </tr>\n",
              "    <tr>\n",
              "      <th>4316</th>\n",
              "      <td>21.119989</td>\n",
              "      <td>2.356106</td>\n",
              "      <td>-10.193827</td>\n",
              "      <td>5.075513</td>\n",
              "      <td>-10.430639</td>\n",
              "      <td>1.562312</td>\n",
              "      <td>-8.059811</td>\n",
              "      <td>1.984105</td>\n",
              "      <td>-8.175989</td>\n",
              "      <td>-3.055492</td>\n",
              "      <td>-6.811266</td>\n",
              "      <td>-1.562141</td>\n",
              "      <td>-4.758216</td>\n",
              "      <td>English</td>\n",
              "    </tr>\n",
              "    <tr>\n",
              "      <th>4317</th>\n",
              "      <td>21.115034</td>\n",
              "      <td>2.394855</td>\n",
              "      <td>-10.126092</td>\n",
              "      <td>4.857200</td>\n",
              "      <td>-10.721030</td>\n",
              "      <td>1.150927</td>\n",
              "      <td>-7.636263</td>\n",
              "      <td>3.057093</td>\n",
              "      <td>-5.314412</td>\n",
              "      <td>-2.107432</td>\n",
              "      <td>-6.845570</td>\n",
              "      <td>1.746267</td>\n",
              "      <td>-1.443737</td>\n",
              "      <td>English</td>\n",
              "    </tr>\n",
              "    <tr>\n",
              "      <th>4318</th>\n",
              "      <td>21.221187</td>\n",
              "      <td>2.816644</td>\n",
              "      <td>-9.624726</td>\n",
              "      <td>5.818239</td>\n",
              "      <td>-7.781792</td>\n",
              "      <td>4.359207</td>\n",
              "      <td>-5.806508</td>\n",
              "      <td>5.801774</td>\n",
              "      <td>-5.991717</td>\n",
              "      <td>-0.266697</td>\n",
              "      <td>-3.418900</td>\n",
              "      <td>2.665791</td>\n",
              "      <td>-0.623198</td>\n",
              "      <td>English</td>\n",
              "    </tr>\n",
              "  </tbody>\n",
              "</table>\n",
              "<p>4319 rows × 14 columns</p>\n",
              "</div>"
            ],
            "text/plain": [
              "             S1        S2         S3  ...       S12       S13   signal\n",
              "0     21.490396  2.978830  -9.115631  ...  3.263657  2.224177  English\n",
              "1     21.997601  2.553598  -9.380871  ...  2.778006  4.924817  English\n",
              "2     22.152114  1.920662  -9.998520  ...  3.003632  5.229453  English\n",
              "3     22.231372  1.591383  -9.629861  ...  2.965400  7.031065  English\n",
              "4     22.128014  1.417125  -9.122610  ...  1.619900  7.867142  English\n",
              "...         ...       ...        ...  ...       ...       ...      ...\n",
              "4314  21.141941  2.332814 -10.227407  ... -0.037490 -2.699396  English\n",
              "4315  21.114221  2.150977 -10.359617  ... -2.281805 -4.442828  English\n",
              "4316  21.119989  2.356106 -10.193827  ... -1.562141 -4.758216  English\n",
              "4317  21.115034  2.394855 -10.126092  ...  1.746267 -1.443737  English\n",
              "4318  21.221187  2.816644  -9.624726  ...  2.665791 -0.623198  English\n",
              "\n",
              "[4319 rows x 14 columns]"
            ]
          },
          "metadata": {
            "tags": []
          },
          "execution_count": 7
        }
      ]
    },
    {
      "cell_type": "code",
      "metadata": {
        "id": "vsKa4XETAtfK",
        "colab_type": "code",
        "outputId": "2b36e0db-65b1-4f4a-c674-1e9886f04dad",
        "colab": {
          "base_uri": "https://localhost:8080/",
          "height": 419
        }
      },
      "source": [
        "df"
      ],
      "execution_count": 0,
      "outputs": [
        {
          "output_type": "execute_result",
          "data": {
            "text/html": [
              "<div>\n",
              "<style scoped>\n",
              "    .dataframe tbody tr th:only-of-type {\n",
              "        vertical-align: middle;\n",
              "    }\n",
              "\n",
              "    .dataframe tbody tr th {\n",
              "        vertical-align: top;\n",
              "    }\n",
              "\n",
              "    .dataframe thead th {\n",
              "        text-align: right;\n",
              "    }\n",
              "</style>\n",
              "<table border=\"1\" class=\"dataframe\">\n",
              "  <thead>\n",
              "    <tr style=\"text-align: right;\">\n",
              "      <th></th>\n",
              "      <th>S1</th>\n",
              "      <th>S2</th>\n",
              "      <th>S3</th>\n",
              "      <th>S4</th>\n",
              "      <th>S5</th>\n",
              "      <th>S6</th>\n",
              "      <th>S7</th>\n",
              "      <th>S8</th>\n",
              "      <th>S9</th>\n",
              "      <th>S10</th>\n",
              "      <th>S11</th>\n",
              "      <th>S12</th>\n",
              "      <th>S13</th>\n",
              "      <th>signal</th>\n",
              "    </tr>\n",
              "  </thead>\n",
              "  <tbody>\n",
              "    <tr>\n",
              "      <th>0</th>\n",
              "      <td>20.025171</td>\n",
              "      <td>2.628488</td>\n",
              "      <td>-9.712582</td>\n",
              "      <td>6.756245</td>\n",
              "      <td>-7.212026</td>\n",
              "      <td>6.031144</td>\n",
              "      <td>-7.614029</td>\n",
              "      <td>3.500561</td>\n",
              "      <td>-8.584224</td>\n",
              "      <td>-0.925271</td>\n",
              "      <td>-6.725987</td>\n",
              "      <td>3.249787</td>\n",
              "      <td>2.495667</td>\n",
              "      <td>1</td>\n",
              "    </tr>\n",
              "    <tr>\n",
              "      <th>1</th>\n",
              "      <td>22.170082</td>\n",
              "      <td>2.294754</td>\n",
              "      <td>-9.896802</td>\n",
              "      <td>6.312880</td>\n",
              "      <td>-5.552039</td>\n",
              "      <td>8.403295</td>\n",
              "      <td>-1.735058</td>\n",
              "      <td>11.526407</td>\n",
              "      <td>2.262370</td>\n",
              "      <td>10.241741</td>\n",
              "      <td>2.650227</td>\n",
              "      <td>2.162987</td>\n",
              "      <td>-8.389478</td>\n",
              "      <td>1</td>\n",
              "    </tr>\n",
              "    <tr>\n",
              "      <th>2</th>\n",
              "      <td>23.880435</td>\n",
              "      <td>3.311172</td>\n",
              "      <td>-9.004375</td>\n",
              "      <td>6.216714</td>\n",
              "      <td>-6.070072</td>\n",
              "      <td>8.579436</td>\n",
              "      <td>-3.409355</td>\n",
              "      <td>1.234124</td>\n",
              "      <td>-3.786311</td>\n",
              "      <td>6.059224</td>\n",
              "      <td>-5.737319</td>\n",
              "      <td>4.259069</td>\n",
              "      <td>-4.287306</td>\n",
              "      <td>0</td>\n",
              "    </tr>\n",
              "    <tr>\n",
              "      <th>3</th>\n",
              "      <td>20.996837</td>\n",
              "      <td>2.349743</td>\n",
              "      <td>-9.550572</td>\n",
              "      <td>8.061570</td>\n",
              "      <td>-7.234631</td>\n",
              "      <td>7.954300</td>\n",
              "      <td>-0.959845</td>\n",
              "      <td>9.063077</td>\n",
              "      <td>3.086608</td>\n",
              "      <td>9.932547</td>\n",
              "      <td>0.184395</td>\n",
              "      <td>-0.263473</td>\n",
              "      <td>-7.946416</td>\n",
              "      <td>1</td>\n",
              "    </tr>\n",
              "    <tr>\n",
              "      <th>4</th>\n",
              "      <td>22.703805</td>\n",
              "      <td>3.221639</td>\n",
              "      <td>-8.965639</td>\n",
              "      <td>7.064991</td>\n",
              "      <td>-7.203170</td>\n",
              "      <td>5.081689</td>\n",
              "      <td>-6.590844</td>\n",
              "      <td>2.997971</td>\n",
              "      <td>-8.144256</td>\n",
              "      <td>-1.321064</td>\n",
              "      <td>-4.062354</td>\n",
              "      <td>5.386270</td>\n",
              "      <td>3.108930</td>\n",
              "      <td>0</td>\n",
              "    </tr>\n",
              "    <tr>\n",
              "      <th>...</th>\n",
              "      <td>...</td>\n",
              "      <td>...</td>\n",
              "      <td>...</td>\n",
              "      <td>...</td>\n",
              "      <td>...</td>\n",
              "      <td>...</td>\n",
              "      <td>...</td>\n",
              "      <td>...</td>\n",
              "      <td>...</td>\n",
              "      <td>...</td>\n",
              "      <td>...</td>\n",
              "      <td>...</td>\n",
              "      <td>...</td>\n",
              "      <td>...</td>\n",
              "    </tr>\n",
              "    <tr>\n",
              "      <th>8633</th>\n",
              "      <td>20.433772</td>\n",
              "      <td>1.884846</td>\n",
              "      <td>-9.669015</td>\n",
              "      <td>7.002919</td>\n",
              "      <td>-7.296481</td>\n",
              "      <td>7.138320</td>\n",
              "      <td>-0.821354</td>\n",
              "      <td>11.813936</td>\n",
              "      <td>9.022390</td>\n",
              "      <td>15.913513</td>\n",
              "      <td>4.846807</td>\n",
              "      <td>1.259331</td>\n",
              "      <td>-10.713008</td>\n",
              "      <td>1</td>\n",
              "    </tr>\n",
              "    <tr>\n",
              "      <th>8634</th>\n",
              "      <td>21.171429</td>\n",
              "      <td>1.713106</td>\n",
              "      <td>-10.987889</td>\n",
              "      <td>6.888440</td>\n",
              "      <td>-8.662182</td>\n",
              "      <td>5.311437</td>\n",
              "      <td>-7.729338</td>\n",
              "      <td>1.001342</td>\n",
              "      <td>-8.790685</td>\n",
              "      <td>1.490530</td>\n",
              "      <td>-4.379940</td>\n",
              "      <td>2.796619</td>\n",
              "      <td>-0.409854</td>\n",
              "      <td>1</td>\n",
              "    </tr>\n",
              "    <tr>\n",
              "      <th>8635</th>\n",
              "      <td>22.233571</td>\n",
              "      <td>2.322799</td>\n",
              "      <td>-10.164128</td>\n",
              "      <td>7.179682</td>\n",
              "      <td>-5.342095</td>\n",
              "      <td>8.903784</td>\n",
              "      <td>-3.445533</td>\n",
              "      <td>8.630638</td>\n",
              "      <td>-3.083479</td>\n",
              "      <td>3.568582</td>\n",
              "      <td>-4.022373</td>\n",
              "      <td>3.520629</td>\n",
              "      <td>-4.019293</td>\n",
              "      <td>1</td>\n",
              "    </tr>\n",
              "    <tr>\n",
              "      <th>8636</th>\n",
              "      <td>22.974206</td>\n",
              "      <td>1.689067</td>\n",
              "      <td>-10.458950</td>\n",
              "      <td>7.341450</td>\n",
              "      <td>-9.363823</td>\n",
              "      <td>3.838920</td>\n",
              "      <td>-8.281853</td>\n",
              "      <td>0.903620</td>\n",
              "      <td>-7.823409</td>\n",
              "      <td>-0.745210</td>\n",
              "      <td>-5.294785</td>\n",
              "      <td>2.808350</td>\n",
              "      <td>-0.738296</td>\n",
              "      <td>0</td>\n",
              "    </tr>\n",
              "    <tr>\n",
              "      <th>8637</th>\n",
              "      <td>22.276916</td>\n",
              "      <td>0.781245</td>\n",
              "      <td>-10.715660</td>\n",
              "      <td>7.255032</td>\n",
              "      <td>-4.330214</td>\n",
              "      <td>8.821600</td>\n",
              "      <td>-2.611333</td>\n",
              "      <td>7.893307</td>\n",
              "      <td>2.199870</td>\n",
              "      <td>12.883022</td>\n",
              "      <td>6.326510</td>\n",
              "      <td>5.533816</td>\n",
              "      <td>-4.093302</td>\n",
              "      <td>1</td>\n",
              "    </tr>\n",
              "  </tbody>\n",
              "</table>\n",
              "<p>8638 rows × 14 columns</p>\n",
              "</div>"
            ],
            "text/plain": [
              "             S1        S2         S3  ...       S12        S13  signal\n",
              "0     20.025171  2.628488  -9.712582  ...  3.249787   2.495667       1\n",
              "1     22.170082  2.294754  -9.896802  ...  2.162987  -8.389478       1\n",
              "2     23.880435  3.311172  -9.004375  ...  4.259069  -4.287306       0\n",
              "3     20.996837  2.349743  -9.550572  ... -0.263473  -7.946416       1\n",
              "4     22.703805  3.221639  -8.965639  ...  5.386270   3.108930       0\n",
              "...         ...       ...        ...  ...       ...        ...     ...\n",
              "8633  20.433772  1.884846  -9.669015  ...  1.259331 -10.713008       1\n",
              "8634  21.171429  1.713106 -10.987889  ...  2.796619  -0.409854       1\n",
              "8635  22.233571  2.322799 -10.164128  ...  3.520629  -4.019293       1\n",
              "8636  22.974206  1.689067 -10.458950  ...  2.808350  -0.738296       0\n",
              "8637  22.276916  0.781245 -10.715660  ...  5.533816  -4.093302       1\n",
              "\n",
              "[8638 rows x 14 columns]"
            ]
          },
          "metadata": {
            "tags": []
          },
          "execution_count": 8
        }
      ]
    },
    {
      "cell_type": "code",
      "metadata": {
        "id": "EVJq8LOEAtfO",
        "colab_type": "code",
        "colab": {}
      },
      "source": [
        "#scaler = preprocessing.StandardScaler().fit(x_train)\n"
      ],
      "execution_count": 0,
      "outputs": []
    },
    {
      "cell_type": "code",
      "metadata": {
        "id": "R8e_wFtZAtfS",
        "colab_type": "code",
        "colab": {}
      },
      "source": [
        "#train = scaler.transform(x_train)  "
      ],
      "execution_count": 0,
      "outputs": []
    },
    {
      "cell_type": "code",
      "metadata": {
        "id": "o-TLUwgQAtfW",
        "colab_type": "code",
        "colab": {}
      },
      "source": [
        "#x_test = scaler.transform(x_test)"
      ],
      "execution_count": 0,
      "outputs": []
    },
    {
      "cell_type": "code",
      "metadata": {
        "id": "hdCVGiI1Atfa",
        "colab_type": "code",
        "colab": {}
      },
      "source": [
        "#x_holdout= scaler.transform(x_holdout)"
      ],
      "execution_count": 0,
      "outputs": []
    },
    {
      "cell_type": "code",
      "metadata": {
        "id": "3BpgmbjhAtfd",
        "colab_type": "code",
        "colab": {}
      },
      "source": [
        "\n"
      ],
      "execution_count": 0,
      "outputs": []
    },
    {
      "cell_type": "code",
      "metadata": {
        "id": "7TVabNgBAtfh",
        "colab_type": "code",
        "outputId": "877a37e2-5daf-491c-a5f4-fd643b7ae4b9",
        "colab": {
          "base_uri": "https://localhost:8080/",
          "height": 34
        }
      },
      "source": [
        "x.shape"
      ],
      "execution_count": 0,
      "outputs": [
        {
          "output_type": "execute_result",
          "data": {
            "text/plain": [
              "(8638, 13)"
            ]
          },
          "metadata": {
            "tags": []
          },
          "execution_count": 12
        }
      ]
    },
    {
      "cell_type": "code",
      "metadata": {
        "id": "gHjEXRGqAtfl",
        "colab_type": "code",
        "outputId": "fa66caa6-96ad-4adf-82b7-6471823e89e9",
        "colab": {
          "base_uri": "https://localhost:8080/",
          "height": 34
        }
      },
      "source": [
        "x_holdout.shape"
      ],
      "execution_count": 0,
      "outputs": [
        {
          "output_type": "execute_result",
          "data": {
            "text/plain": [
              "(1728, 13)"
            ]
          },
          "metadata": {
            "tags": []
          },
          "execution_count": 13
        }
      ]
    },
    {
      "cell_type": "code",
      "metadata": {
        "id": "MqB7Mjd_Atfp",
        "colab_type": "code",
        "outputId": "f42ddc5a-5199-4583-fc6d-75455edd934c",
        "colab": {
          "base_uri": "https://localhost:8080/",
          "height": 34
        }
      },
      "source": [
        "x_test.shape"
      ],
      "execution_count": 0,
      "outputs": [
        {
          "output_type": "execute_result",
          "data": {
            "text/plain": [
              "(1382, 13)"
            ]
          },
          "metadata": {
            "tags": []
          },
          "execution_count": 14
        }
      ]
    },
    {
      "cell_type": "code",
      "metadata": {
        "id": "JoUPgRhJAtft",
        "colab_type": "code",
        "outputId": "aa93abbd-4680-4d90-e0e6-d459df1b7f89",
        "colab": {
          "base_uri": "https://localhost:8080/",
          "height": 34
        }
      },
      "source": [
        "x_train.shape"
      ],
      "execution_count": 0,
      "outputs": [
        {
          "output_type": "execute_result",
          "data": {
            "text/plain": [
              "(5528, 13)"
            ]
          },
          "metadata": {
            "tags": []
          },
          "execution_count": 15
        }
      ]
    },
    {
      "cell_type": "code",
      "metadata": {
        "id": "27ouNl-8Atfx",
        "colab_type": "code",
        "colab": {}
      },
      "source": [
        ""
      ],
      "execution_count": 0,
      "outputs": []
    },
    {
      "cell_type": "markdown",
      "metadata": {
        "id": "FT4QxN3lAtf0",
        "colab_type": "text"
      },
      "source": [
        "## Define CNN"
      ]
    },
    {
      "cell_type": "code",
      "metadata": {
        "id": "6D_JPaIZAtf2",
        "colab_type": "code",
        "colab": {}
      },
      "source": [
        "import keras\n",
        "from keras.models import Sequential\n",
        "from keras import layers\n",
        "from keras import backend as K\n",
        "from keras import optimizers\n",
        "import tensorflow as tf\n",
        "import time\n",
        "import pandas as pd\n",
        "import io\n",
        "import requests\n",
        "import numpy as np\n",
        "import os\n",
        "from sklearn.model_selection import train_test_split\n",
        "from sklearn import metrics\n",
        "from keras.callbacks import EarlyStopping\n",
        "from keras.callbacks import ModelCheckpoint\n",
        "from sklearn.model_selection import KFold\n",
        "\n",
        "import matplotlib.pyplot as plt\n",
        "from sklearn.metrics import confusion_matrix\n",
        "import time\n",
        "\n"
      ],
      "execution_count": 0,
      "outputs": []
    },
    {
      "cell_type": "code",
      "metadata": {
        "id": "z4dpJAHWAtf5",
        "colab_type": "code",
        "outputId": "aad80bb3-076e-4fed-8f48-7201f13ca6e2",
        "colab": {
          "base_uri": "https://localhost:8080/",
          "height": 1000
        }
      },
      "source": [
        "batch_size = 1024\n",
        "num_classes = 2\n",
        "epochs = 10\n",
        "start_time = time.time()\n",
        "\n",
        "# Cross-validate\n",
        "kf = KFold(5)\n",
        "    \n",
        "oos_y = []\n",
        "oos_pred = []\n",
        "fold = 0\n",
        "plot_loss = np.empty ((0,epochs))\n",
        "plot_acc = np.empty ((0,epochs))\n",
        "\n",
        "for train, test in kf.split(x_main):\n",
        "    fold+=1\n",
        "    print(\"Fold #{}\".format(fold))\n",
        "        \n",
        "    x_train = x_main[train]\n",
        "    y_train = y_main[train]\n",
        "    x_test = x_main[test]\n",
        "    y_test = y_main[test]\n",
        "    \n",
        "    X_train = np.expand_dims(x_train, axis=2) # reshape (569, 30) to (569, 30, 1) \n",
        "\n",
        "   \n",
        "\n",
        "    model = Sequential()\n",
        "    model.add(layers.Conv1D(40,2, activation='relu', input_shape=(13,1)))\n",
        "    model.add(layers.Conv1D(40,2, activation='relu'))\n",
        "    model.add(layers.MaxPooling1D(strides=2, pool_size=2))\n",
        "    model.add(layers.Dropout(0.2))\n",
        "    model.add(layers.Conv1D(60,2, activation='relu'))\n",
        "    model.add(layers.Conv1D(60,2, activation='relu'))\n",
        "    \n",
        "\n",
        "    model.add(layers.Flatten())\n",
        "    model.add(layers.Dense(30))\n",
        "    model.add(layers.Activation('relu'))\n",
        "    #keras.layers.PReLU(alpha_initializer='zeros', alpha_regularizer=None, alpha_constraint=None, shared_axes=None)\n",
        "    model.add(layers.Dropout(0.2))\n",
        "    model.add(layers.Dense(10))\n",
        "    model.add(layers.Activation('relu'))\n",
        "    #keras.layers.PReLU(alpha_initializer='zeros', alpha_regularizer=None, alpha_constraint=None, shared_axes=None)\n",
        "    model.add(layers.Dropout(0.2))\n",
        "    model.add(layers.Dense(y_train.shape[1],activation='sigmoid')) # Output\n",
        "\n",
        "    model.compile(loss='binary_crossentropy',\n",
        "                  optimizer=keras.optimizers.Adam(lr=0.001),\n",
        "                  metrics=['accuracy'])\n",
        "\n",
        "    monitor = EarlyStopping(monitor='val_loss',\n",
        "                            min_delta=1e-3,\n",
        "                            patience=5,\n",
        "                            verbose=0,\n",
        "                            mode='auto')\n",
        "    checkpointer = ModelCheckpoint(filepath=\"best_weights.h5\",\n",
        "                                   verbose=2,\n",
        "                                   save_best_only=True) # save best model\n",
        "\n",
        "    \n",
        "\n",
        "    X_test = np.expand_dims(x_test, axis=2)\n",
        "    history = model.fit(X_train, y_train,\n",
        "                        batch_size=batch_size,\n",
        "                        epochs=epochs,\n",
        "                        #callbacks=[monitor],\n",
        "                        verbose=0,\n",
        "                        shuffle=True,\n",
        "                        validation_data=(X_test, y_test))\n",
        "    \n",
        "    \n",
        "\n",
        "\n",
        "\n",
        "    ####################\n",
        "    pred = model.predict(X_test)\n",
        "    \n",
        "    oos_y.append(y_test)\n",
        "    pred = np.argmax(pred,axis=1) # raw probabilities to chosen class (highest probability)\n",
        "    oos_pred.append(pred)        \n",
        "\n",
        "    # Measure this fold's accuracy\n",
        "    y_compare = np.argmax(y_test,axis=1) # For accuracy calculation\n",
        "    score = metrics.accuracy_score(y_compare, pred)\n",
        "    print(\"Fold score (accuracy): {}\".format(score))\n",
        "    \n",
        "    #######################\n",
        "    elapsed_time = time.time() - start_time\n",
        "    print(\"Elapsed time: {}\".format(hms_string(elapsed_time))) \n",
        "    \n",
        "    ###############################################\n",
        "    loss = history.history['loss']\n",
        "    #plt.plot(epochs,loss,label=='Training loss')\n",
        "    acc = history.history['acc']\n",
        "    plot_loss = np.append (plot_loss, [loss],axis=0)\n",
        "    plot_acc = np.append (plot_acc, [acc],axis=0)\n",
        "    ###############################################\n",
        "    cm = confusion_matrix(y_compare,pred)\n",
        "    np.set_printoptions(precision=2)\n",
        "    print('Confusion matrix, without normalization')\n",
        "    print(cm)\n",
        "\n",
        "\n",
        "    \n",
        "    \n",
        "# Build the oos prediction list and calculate the error.\n",
        "oos_y = np.concatenate(oos_y)\n",
        "oos_pred = np.concatenate(oos_pred)\n",
        "oos_y_compare = np.argmax(oos_y,axis=1) # For accuracy calculation\n",
        "\n",
        "score = metrics.accuracy_score(oos_y_compare, oos_pred)\n",
        "\n",
        "print(\"Final score (accuracy): {}\".format(score))"
      ],
      "execution_count": 0,
      "outputs": [
        {
          "output_type": "stream",
          "text": [
            "Fold #1\n",
            "WARNING:tensorflow:From /usr/local/lib/python3.6/dist-packages/keras/backend/tensorflow_backend.py:66: The name tf.get_default_graph is deprecated. Please use tf.compat.v1.get_default_graph instead.\n",
            "\n",
            "WARNING:tensorflow:From /usr/local/lib/python3.6/dist-packages/keras/backend/tensorflow_backend.py:541: The name tf.placeholder is deprecated. Please use tf.compat.v1.placeholder instead.\n",
            "\n",
            "WARNING:tensorflow:From /usr/local/lib/python3.6/dist-packages/keras/backend/tensorflow_backend.py:4432: The name tf.random_uniform is deprecated. Please use tf.random.uniform instead.\n",
            "\n",
            "WARNING:tensorflow:From /usr/local/lib/python3.6/dist-packages/keras/backend/tensorflow_backend.py:4267: The name tf.nn.max_pool is deprecated. Please use tf.nn.max_pool2d instead.\n",
            "\n",
            "WARNING:tensorflow:From /usr/local/lib/python3.6/dist-packages/keras/backend/tensorflow_backend.py:148: The name tf.placeholder_with_default is deprecated. Please use tf.compat.v1.placeholder_with_default instead.\n",
            "\n",
            "WARNING:tensorflow:From /usr/local/lib/python3.6/dist-packages/keras/backend/tensorflow_backend.py:3733: calling dropout (from tensorflow.python.ops.nn_ops) with keep_prob is deprecated and will be removed in a future version.\n",
            "Instructions for updating:\n",
            "Please use `rate` instead of `keep_prob`. Rate should be set to `rate = 1 - keep_prob`.\n",
            "WARNING:tensorflow:From /usr/local/lib/python3.6/dist-packages/keras/optimizers.py:793: The name tf.train.Optimizer is deprecated. Please use tf.compat.v1.train.Optimizer instead.\n",
            "\n",
            "WARNING:tensorflow:From /usr/local/lib/python3.6/dist-packages/keras/backend/tensorflow_backend.py:3657: The name tf.log is deprecated. Please use tf.math.log instead.\n",
            "\n",
            "WARNING:tensorflow:From /usr/local/lib/python3.6/dist-packages/tensorflow_core/python/ops/nn_impl.py:183: where (from tensorflow.python.ops.array_ops) is deprecated and will be removed in a future version.\n",
            "Instructions for updating:\n",
            "Use tf.where in 2.0, which has the same broadcast rule as np.where\n",
            "WARNING:tensorflow:From /usr/local/lib/python3.6/dist-packages/keras/backend/tensorflow_backend.py:1033: The name tf.assign_add is deprecated. Please use tf.compat.v1.assign_add instead.\n",
            "\n",
            "WARNING:tensorflow:From /usr/local/lib/python3.6/dist-packages/keras/backend/tensorflow_backend.py:1020: The name tf.assign is deprecated. Please use tf.compat.v1.assign instead.\n",
            "\n",
            "WARNING:tensorflow:From /usr/local/lib/python3.6/dist-packages/keras/backend/tensorflow_backend.py:3005: The name tf.Session is deprecated. Please use tf.compat.v1.Session instead.\n",
            "\n",
            "WARNING:tensorflow:From /usr/local/lib/python3.6/dist-packages/keras/backend/tensorflow_backend.py:190: The name tf.get_default_session is deprecated. Please use tf.compat.v1.get_default_session instead.\n",
            "\n",
            "WARNING:tensorflow:From /usr/local/lib/python3.6/dist-packages/keras/backend/tensorflow_backend.py:197: The name tf.ConfigProto is deprecated. Please use tf.compat.v1.ConfigProto instead.\n",
            "\n",
            "WARNING:tensorflow:From /usr/local/lib/python3.6/dist-packages/keras/backend/tensorflow_backend.py:207: The name tf.global_variables is deprecated. Please use tf.compat.v1.global_variables instead.\n",
            "\n",
            "WARNING:tensorflow:From /usr/local/lib/python3.6/dist-packages/keras/backend/tensorflow_backend.py:216: The name tf.is_variable_initialized is deprecated. Please use tf.compat.v1.is_variable_initialized instead.\n",
            "\n",
            "WARNING:tensorflow:From /usr/local/lib/python3.6/dist-packages/keras/backend/tensorflow_backend.py:223: The name tf.variables_initializer is deprecated. Please use tf.compat.v1.variables_initializer instead.\n",
            "\n",
            "Fold score (accuracy): 0.6939218523878437\n",
            "Elapsed time: 0:00:04.39\n",
            "Confusion matrix, without normalization\n",
            "[[496 164]\n",
            " [259 463]]\n",
            "Fold #2\n",
            "Fold score (accuracy): 0.7069464544138929\n",
            "Elapsed time: 0:00:08.25\n",
            "Confusion matrix, without normalization\n",
            "[[524 202]\n",
            " [203 453]]\n",
            "Fold #3\n",
            "Fold score (accuracy): 0.691027496382055\n",
            "Elapsed time: 0:00:12.55\n",
            "Confusion matrix, without normalization\n",
            "[[469 209]\n",
            " [218 486]]\n",
            "Fold #4\n",
            "Fold score (accuracy): 0.7149059334298119\n",
            "Elapsed time: 0:00:16.71\n",
            "Confusion matrix, without normalization\n",
            "[[473 216]\n",
            " [178 515]]\n",
            "Fold #5\n",
            "Fold score (accuracy): 0.7105643994211288\n",
            "Elapsed time: 0:00:21.32\n",
            "Confusion matrix, without normalization\n",
            "[[539 140]\n",
            " [260 443]]\n",
            "Final score (accuracy): 0.7034732272069465\n"
          ],
          "name": "stdout"
        }
      ]
    },
    {
      "cell_type": "code",
      "metadata": {
        "id": "VYuPPEbkAtf9",
        "colab_type": "code",
        "outputId": "2ed8caae-2c70-46af-fbdb-54086077e896",
        "colab": {
          "base_uri": "https://localhost:8080/",
          "height": 313
        }
      },
      "source": [
        "plot_loss_graph = plot_loss\n",
        "itr=range(1,(epochs+1))\n",
        "for i in range(1,fold+1):\n",
        "    plt.plot(itr,plot_loss_graph[i-1],label=\"Fold #{}\".format(i))\n",
        "plt.xlabel('Epochs')\n",
        "plt.ylabel('Loss')\n",
        "plt.legend()\n",
        "plt.grid()\n",
        "plt.savefig(\"k-fold_loss.eps\")\n",
        "plt.savefig(\"k-fold_loss.png\",dpi=150)\n",
        "plt.show()"
      ],
      "execution_count": 0,
      "outputs": [
        {
          "output_type": "stream",
          "text": [
            "The PostScript backend does not support transparency; partially transparent artists will be rendered opaque.\n",
            "The PostScript backend does not support transparency; partially transparent artists will be rendered opaque.\n"
          ],
          "name": "stderr"
        },
        {
          "output_type": "display_data",
          "data": {
            "image/png": "[encoded data removed]",
            "text/plain": [
              "<Figure size 432x288 with 1 Axes>"
            ]
          },
          "metadata": {
            "tags": []
          }
        }
      ]
    },
    {
      "cell_type": "code",
      "metadata": {
        "id": "Z-fpimLtAtgB",
        "colab_type": "code",
        "outputId": "8c8fa85e-7217-4de0-b66c-9312fa487acf",
        "colab": {
          "base_uri": "https://localhost:8080/",
          "height": 313
        }
      },
      "source": [
        "plt.clf()\n",
        "plot_acc_graph = plot_acc\n",
        "itr=range(1,(epochs+1))\n",
        "for i in range(1,fold+1):\n",
        "    plt.plot(itr,plot_acc_graph[i-1],label=\"Fold #{}\".format(i))\n",
        "\n",
        "plt.xlabel('Epochs')\n",
        "plt.ylabel('Accuracy')\n",
        "plt.legend()\n",
        "plt.grid()\n",
        "plt.savefig(\"k-fold_acc.eps\",dpi=150)\n",
        "plt.savefig('k-fold_acc.png',dpi=150)\n",
        "plt.show()"
      ],
      "execution_count": 0,
      "outputs": [
        {
          "output_type": "stream",
          "text": [
            "The PostScript backend does not support transparency; partially transparent artists will be rendered opaque.\n",
            "The PostScript backend does not support transparency; partially transparent artists will be rendered opaque.\n"
          ],
          "name": "stderr"
        },
        {
          "output_type": "display_data",
          "data": {
            "image/png": "[encoded data removed]",
            "text/plain": [
              "<Figure size 432x288 with 1 Axes>"
            ]
          },
          "metadata": {
            "tags": []
          }
        }
      ]
    },
    {
      "cell_type": "code",
      "metadata": {
        "id": "UXcjZ9leAtgF",
        "colab_type": "code",
        "outputId": "e7cb1ae1-ad1e-4654-cab9-d7e53b665324",
        "colab": {
          "base_uri": "https://localhost:8080/",
          "height": 51
        }
      },
      "source": [
        "# Write the cross-validated prediction (from the last neural network)\n",
        "X_holdout = np.expand_dims(x_holdout, axis=2)\n",
        "\n",
        "holdout_pred = model.predict(X_holdout)\n",
        "holdout_pred = np.argmax(holdout_pred, axis=1)\n",
        "y_holdout_compare = np.argmax(y_holdout, axis=1)\n",
        "score = metrics.accuracy_score(y_holdout_compare,holdout_pred)\n",
        "print(\"Holdout score (accuracy): {}\".format(score))\n",
        "\n",
        "\n",
        "\n",
        "elapsed_time = time.time() - start_time\n",
        "print(\"Elapsed time: {}\".format(hms_string(elapsed_time)))"
      ],
      "execution_count": 0,
      "outputs": [
        {
          "output_type": "stream",
          "text": [
            "Holdout score (accuracy): 0.6996527777777778\n",
            "Elapsed time: 0:00:55.37\n"
          ],
          "name": "stdout"
        }
      ]
    },
    {
      "cell_type": "code",
      "metadata": {
        "id": "O7UWTnviAtgO",
        "colab_type": "code",
        "colab": {}
      },
      "source": [
        ""
      ],
      "execution_count": 0,
      "outputs": []
    },
    {
      "cell_type": "code",
      "metadata": {
        "id": "-so_OLKgAtgU",
        "colab_type": "code",
        "outputId": "591427bc-22b9-49a4-a8ad-37b3e3fc42e5",
        "colab": {
          "base_uri": "https://localhost:8080/",
          "height": 34
        }
      },
      "source": [
        "# Write the cross-validated prediction (from the last neural network)\n",
        "\n",
        "X_holdout = np.expand_dims(x_holdout, axis=2)\n",
        "holdout_pred = model.predict(X_holdout)\n",
        "\n",
        "score = metrics.log_loss(y_holdout, holdout_pred)\n",
        "print(\"Log loss score: {}\".format(score))"
      ],
      "execution_count": 0,
      "outputs": [
        {
          "output_type": "stream",
          "text": [
            "Log loss score: 0.5858364356595471\n"
          ],
          "name": "stdout"
        }
      ]
    },
    {
      "cell_type": "code",
      "metadata": {
        "id": "rdzIpr9EAtgZ",
        "colab_type": "code",
        "outputId": "126af79f-8cfb-4c19-e8be-3b38afa349ea",
        "colab": {
          "base_uri": "https://localhost:8080/",
          "height": 34
        }
      },
      "source": [
        "# Measure accuracy\n",
        "holdout_pred = model.predict(X_holdout)\n",
        "holdout_pred = np.argmax(holdout_pred, axis=1)\n",
        "y_holdout_compare = np.argmax(y_holdout, axis=1)\n",
        "score = metrics.accuracy_score(y_holdout_compare, holdout_pred)\n",
        "print(\"Final accuracy: {}\".format(score))"
      ],
      "execution_count": 0,
      "outputs": [
        {
          "output_type": "stream",
          "text": [
            "Final accuracy: 0.6996527777777778\n"
          ],
          "name": "stdout"
        }
      ]
    },
    {
      "cell_type": "markdown",
      "metadata": {
        "id": "hMg0pMj1Atgd",
        "colab_type": "text"
      },
      "source": [
        "## Output"
      ]
    },
    {
      "cell_type": "code",
      "metadata": {
        "id": "Oygb_NL3Atge",
        "colab_type": "code",
        "outputId": "57b92a0d-8c05-4575-b73a-a3de2d7781b6",
        "colab": {
          "base_uri": "https://localhost:8080/",
          "height": 34
        }
      },
      "source": [
        "history_dict = history.history\n",
        "\n",
        "history_dict.keys()"
      ],
      "execution_count": 0,
      "outputs": [
        {
          "output_type": "execute_result",
          "data": {
            "text/plain": [
              "dict_keys(['val_loss', 'val_acc', 'loss', 'acc'])"
            ]
          },
          "metadata": {
            "tags": []
          },
          "execution_count": 23
        }
      ]
    },
    {
      "cell_type": "code",
      "metadata": {
        "id": "3FkcXRk7Atgh",
        "colab_type": "code",
        "outputId": "c15144e6-77fa-4850-a82a-64f2ce4d6e1b",
        "colab": {
          "base_uri": "https://localhost:8080/",
          "height": 295
        }
      },
      "source": [
        "import matplotlib.pyplot as plt\n",
        "\n",
        "acc = history.history['acc']\n",
        "val_acc = history.history['val_acc']\n",
        "loss = history.history['loss']\n",
        "val_loss = history.history['val_loss']\n",
        "\n",
        "epochs = range(1, len(acc) + 1)\n",
        "\n",
        "# \"bo\" is for \"blue dot\"\n",
        "plt.plot(epochs, loss,  label='Training loss')\n",
        "# b is for \"solid blue line\"\n",
        "plt.plot(epochs, val_loss,  label='Validation loss')\n",
        "plt.title('Training and validation loss')\n",
        "plt.xlabel('Epochs')\n",
        "plt.ylabel('Loss')\n",
        "plt.legend()\n",
        "plt.grid()\n",
        "plt.savefig('loss.png',dpi=150)\n",
        "plt.show()\n"
      ],
      "execution_count": 0,
      "outputs": [
        {
          "output_type": "display_data",
          "data": {
            "image/png": "[encoded data removed]",
            "text/plain": [
              "<Figure size 432x288 with 1 Axes>"
            ]
          },
          "metadata": {
            "tags": []
          }
        }
      ]
    },
    {
      "cell_type": "code",
      "metadata": {
        "id": "dvNApxBSAtgo",
        "colab_type": "code",
        "outputId": "c0ca8ca1-087d-4777-f9d3-a0f5b86dc5ad",
        "colab": {
          "base_uri": "https://localhost:8080/",
          "height": 295
        }
      },
      "source": [
        "plt.clf()   # clear figure\n",
        "acc_values = history_dict['acc']\n",
        "val_acc_values = history_dict['val_acc']\n",
        "\n",
        "plt.plot(epochs, acc,  label='Training acc')\n",
        "plt.plot(epochs, val_acc,  label='Validation acc')\n",
        "plt.title('Training and validation accuracy')\n",
        "plt.xlabel('Epochs')\n",
        "plt.ylabel('Loss')\n",
        "plt.legend()\n",
        "plt.grid()\n",
        "plt.savefig('acc.png',dpi=150)\n",
        "plt.show()"
      ],
      "execution_count": 0,
      "outputs": [
        {
          "output_type": "display_data",
          "data": {
            "image/png": "[encoded data removed]",
            "text/plain": [
              "<Figure size 432x288 with 1 Axes>"
            ]
          },
          "metadata": {
            "tags": []
          }
        }
      ]
    },
    {
      "cell_type": "markdown",
      "metadata": {
        "id": "IaQl5NWfAtgr",
        "colab_type": "text"
      },
      "source": [
        "## Visualization Functions"
      ]
    },
    {
      "cell_type": "code",
      "metadata": {
        "id": "yxFys77bAtgs",
        "colab_type": "code",
        "colab": {}
      },
      "source": [
        "%matplotlib inline\n",
        "import matplotlib.pyplot as plt\n",
        "from sklearn.metrics import roc_curve, auc\n",
        "\n",
        "# Plot a confusion matrix.\n",
        "# cm is the confusion matrix, names are the names of the classes.\n",
        "def plot_confusion_matrix(cm, names, title='Confusion matrix', cmap=plt.cm.Blues):\n",
        "    plt.imshow(cm, interpolation='nearest', cmap=cmap)\n",
        "    plt.title(title)\n",
        "    plt.colorbar()\n",
        "    tick_marks = np.arange(len(names))\n",
        "    plt.xticks(tick_marks, names, rotation=45)\n",
        "    plt.yticks(tick_marks, names)\n",
        "    plt.tight_layout()\n",
        "    plt.ylabel('True label')\n",
        "    plt.xlabel('Predicted label')\n",
        "    \n",
        "\n",
        "# Plot an ROC. pred - the predictions, y - the expected output.\n",
        "def plot_roc(pred,y):\n",
        "    fpr, tpr, _ = roc_curve(y, pred)\n",
        "    roc_auc = auc(fpr, tpr)\n",
        "\n",
        "    plt.figure()\n",
        "    plt.plot(fpr, tpr, label='ROC curve (area = %0.2f)' % roc_auc)\n",
        "    plt.plot([0, 1], [0, 1], 'k--')\n",
        "    plt.xlim([-0.05, 1.05])\n",
        "    plt.ylim([-0.05, 1.05])\n",
        "    plt.xlabel('False Positive Rate')\n",
        "    plt.ylabel('True Positive Rate')\n",
        "    plt.title('Receiver Operating Characteristic (ROC)')\n",
        "    plt.legend(loc=\"lower right\")\n",
        "    plt.grid()\n",
        "    #plt.savefig('roc1.png',dpi=150)\n",
        "    plt.show()   "
      ],
      "execution_count": 0,
      "outputs": []
    },
    {
      "cell_type": "markdown",
      "metadata": {
        "id": "zE3VoW2_Atgv",
        "colab_type": "text"
      },
      "source": [
        "### Confusion Matrix"
      ]
    },
    {
      "cell_type": "code",
      "metadata": {
        "scrolled": false,
        "id": "ROWDdZ60Atgw",
        "colab_type": "code",
        "outputId": "2ea09584-d038-4c29-dbda-1eca433097dd",
        "colab": {
          "base_uri": "https://localhost:8080/",
          "height": 679
        }
      },
      "source": [
        "import numpy as np\n",
        "\n",
        "from sklearn import svm, datasets\n",
        "from sklearn.model_selection import train_test_split\n",
        "from sklearn.metrics import confusion_matrix\n",
        "\n",
        "# Compute confusion matrix\n",
        "cm = confusion_matrix(y_compare, pred)\n",
        "np.set_printoptions(precision=2)\n",
        "print('Confusion matrix, without normalization')\n",
        "print(cm)\n",
        "plt.figure()\n",
        "plot_confusion_matrix(cm, signal)\n",
        "plt.savefig('cm.png',dpi=150)\n",
        "\n",
        "# Normalize the confusion matrix by row (i.e by the number of samples\n",
        "# in each class)\n",
        "cm_normalized = cm.astype('float') / cm.sum(axis=1)[:, np.newaxis]\n",
        "print('Normalized confusion matrix')\n",
        "print(cm_normalized)\n",
        "plt.figure()\n",
        "plot_confusion_matrix(cm_normalized, signal, title='Normalized confusion matrix')\n",
        "plt.savefig('norm_cm.png',dpi=150)\n",
        "plt.show()"
      ],
      "execution_count": 0,
      "outputs": [
        {
          "output_type": "stream",
          "text": [
            "Confusion matrix, without normalization\n",
            "[[539 140]\n",
            " [260 443]]\n",
            "Normalized confusion matrix\n",
            "[[0.79 0.21]\n",
            " [0.37 0.63]]\n"
          ],
          "name": "stdout"
        },
        {
          "output_type": "display_data",
          "data": {
            "image/png": "[encoded data removed]",
            "text/plain": [
              "<Figure size 432x288 with 2 Axes>"
            ]
          },
          "metadata": {
            "tags": []
          }
        },
        {
          "output_type": "display_data",
          "data": {
            "image/png": "[encoded data removed]",
            "text/plain": [
              "<Figure size 432x288 with 2 Axes>"
            ]
          },
          "metadata": {
            "tags": []
          }
        }
      ]
    },
    {
      "cell_type": "code",
      "metadata": {
        "id": "cwSGuZTMAtgz",
        "colab_type": "code",
        "outputId": "6dec21fa-9ff8-4bc3-b21e-e3c68959e138",
        "colab": {
          "base_uri": "https://localhost:8080/",
          "height": 85
        }
      },
      "source": [
        "[[TP,FN],[FP,TN]]=cm\n",
        "\n",
        "Acc=(TP+TN)/(TP+TN+FP+FN)\n",
        "print(\"Overall Accuracy: \",Acc*100)\n",
        "\n",
        "Se=(TP)/(TP+FN)\n",
        "print(\"Sensitivity: \",Se*100)\n",
        "\n",
        "Sp=(TN)/(TN+FP)\n",
        "print(\"Specificity: \",Sp*100)\n",
        "\n",
        "ER=(FP+FN)/(TP+TN+FP+FN)\n",
        "print(\"Error Rate: \",ER*100)"
      ],
      "execution_count": 0,
      "outputs": [
        {
          "output_type": "stream",
          "text": [
            "Overall Accuracy:  71.05643994211289\n",
            "Sensitivity:  79.38144329896907\n",
            "Specificity:  63.01564722617354\n",
            "Error Rate:  28.94356005788712\n"
          ],
          "name": "stdout"
        }
      ]
    },
    {
      "cell_type": "markdown",
      "metadata": {
        "id": "AZExiwzSAtg1",
        "colab_type": "text"
      },
      "source": [
        "### ROC Chart"
      ]
    },
    {
      "cell_type": "code",
      "metadata": {
        "id": "d_0dYacOAtg2",
        "colab_type": "code",
        "outputId": "b32d0a58-f19b-4a6e-fb32-92f2a3adfc64",
        "colab": {
          "base_uri": "https://localhost:8080/",
          "height": 312
        }
      },
      "source": [
        "pred = model.predict(X_test)\n",
        "pred = pred[:,1] # Only positive cases\n",
        "plot_roc(pred,y_compare)\n",
        "plt.savefig('roc.png',dpi=150)"
      ],
      "execution_count": 0,
      "outputs": [
        {
          "output_type": "display_data",
          "data": {
            "image/png": "[encoded data removed]",
            "text/plain": [
              "<Figure size 432x288 with 1 Axes>"
            ]
          },
          "metadata": {
            "tags": []
          }
        },
        {
          "output_type": "display_data",
          "data": {
            "text/plain": [
              "<Figure size 432x288 with 0 Axes>"
            ]
          },
          "metadata": {
            "tags": []
          }
        }
      ]
    },
    {
      "cell_type": "code",
      "metadata": {
        "id": "plB6lQFzAtg7",
        "colab_type": "code",
        "outputId": "aed46724-65db-4dec-a21e-b98df84d1033",
        "colab": {
          "base_uri": "https://localhost:8080/",
          "height": 34
        }
      },
      "source": [
        "pred"
      ],
      "execution_count": 0,
      "outputs": [
        {
          "output_type": "execute_result",
          "data": {
            "text/plain": [
              "array([0.38, 0.14, 0.22, ..., 0.32, 0.6 , 0.69], dtype=float32)"
            ]
          },
          "metadata": {
            "tags": []
          },
          "execution_count": 30
        }
      ]
    },
    {
      "cell_type": "markdown",
      "metadata": {
        "id": "hvHtnrVzAtg9",
        "colab_type": "text"
      },
      "source": [
        "### Log-loss score"
      ]
    },
    {
      "cell_type": "code",
      "metadata": {
        "id": "942nq05DAtg-",
        "colab_type": "code",
        "outputId": "616a8c16-c00a-49ae-e5a2-732d508d7e6c",
        "colab": {
          "base_uri": "https://localhost:8080/",
          "height": 170
        }
      },
      "source": [
        "from IPython.display import display\n",
        "\n",
        "# Don't display numpy in scientific notation\n",
        "np.set_printoptions(precision=4)\n",
        "np.set_printoptions(suppress=True)\n",
        "\n",
        "# Generate predictions\n",
        "pred = model.predict(X_test)\n",
        "\n",
        "print(\"Numpy array of predictions\")\n",
        "print(pred[0]*100)\n",
        "\n",
        "print(\"As percent probability\")\n",
        "display(pred[0:5])\n",
        "\n",
        "score = metrics.log_loss(y_test, pred)\n",
        "print(\"Log loss score: {}\".format(score))"
      ],
      "execution_count": 0,
      "outputs": [
        {
          "output_type": "stream",
          "text": [
            "Numpy array of predictions\n",
            "[63.9822 38.0904]\n",
            "As percent probability\n"
          ],
          "name": "stdout"
        },
        {
          "output_type": "display_data",
          "data": {
            "text/plain": [
              "array([[0.6398, 0.3809],\n",
              "       [0.8168, 0.1359],\n",
              "       [0.7818, 0.2171],\n",
              "       [0.6215, 0.4239],\n",
              "       [0.6511, 0.3904]], dtype=float32)"
            ]
          },
          "metadata": {
            "tags": []
          }
        },
        {
          "output_type": "stream",
          "text": [
            "Log loss score: 0.5625036207180033\n"
          ],
          "name": "stdout"
        }
      ]
    },
    {
      "cell_type": "markdown",
      "metadata": {
        "id": "re9O6T4tAthB",
        "colab_type": "text"
      },
      "source": [
        "# Holdout Predictions"
      ]
    },
    {
      "cell_type": "code",
      "metadata": {
        "id": "DN3KFrRuAthC",
        "colab_type": "code",
        "outputId": "e5482357-7799-4d02-8727-d3b1d0d965a5",
        "colab": {
          "base_uri": "https://localhost:8080/",
          "height": 34
        }
      },
      "source": [
        "# Write the cross-validated prediction (from the last neural network)\n",
        "\n",
        "X_holdout = np.expand_dims(x_holdout, axis=2)\n",
        "holdout_pred = model.predict(X_holdout)\n",
        "\n",
        "score = metrics.log_loss(y_holdout, holdout_pred)\n",
        "print(\"Log loss score: {}\".format(score))"
      ],
      "execution_count": 0,
      "outputs": [
        {
          "output_type": "stream",
          "text": [
            "Log loss score: 0.5858364356595471\n"
          ],
          "name": "stdout"
        }
      ]
    },
    {
      "cell_type": "code",
      "metadata": {
        "scrolled": true,
        "id": "7ka4lf7ZAthF",
        "colab_type": "code",
        "outputId": "eac10555-e9b6-445f-c4bb-5d3dae8df664",
        "colab": {
          "base_uri": "https://localhost:8080/",
          "height": 34
        }
      },
      "source": [
        "# Measure accuracy\n",
        "holdout_pred = model.predict(X_holdout)\n",
        "holdout_pred = np.argmax(holdout_pred, axis=1)\n",
        "y_holdout_compare = np.argmax(y_holdout, axis=1)\n",
        "score = metrics.accuracy_score(y_holdout_compare, holdout_pred)\n",
        "print(\"Final accuracy: {}\".format(score))"
      ],
      "execution_count": 0,
      "outputs": [
        {
          "output_type": "stream",
          "text": [
            "Final accuracy: 0.6996527777777778\n"
          ],
          "name": "stdout"
        }
      ]
    },
    {
      "cell_type": "markdown",
      "metadata": {
        "id": "bJHoq1-5AthI",
        "colab_type": "text"
      },
      "source": [
        "## Confusion Matrix"
      ]
    },
    {
      "cell_type": "code",
      "metadata": {
        "scrolled": false,
        "id": "59eUHqIQAthJ",
        "colab_type": "code",
        "outputId": "40a7a26e-5c89-4707-97a9-764db2706130",
        "colab": {
          "base_uri": "https://localhost:8080/",
          "height": 679
        }
      },
      "source": [
        "import numpy as np\n",
        "\n",
        "from sklearn import svm, datasets\n",
        "from sklearn.model_selection import train_test_split\n",
        "from sklearn.metrics import confusion_matrix\n",
        "\n",
        "# Compute confusion matrix\n",
        "cm = confusion_matrix(y_holdout_compare, holdout_pred)\n",
        "np.set_printoptions(precision=2)\n",
        "print('Confusion matrix, without normalization')\n",
        "print(cm)\n",
        "plt.figure()\n",
        "plot_confusion_matrix(cm, signal)\n",
        "plt.savefig('cm2.png',dpi=150)\n",
        "\n",
        "# Normalize the confusion matrix by row (i.e by the number of samples\n",
        "# in each class)\n",
        "cm_normalized = cm.astype('float') / cm.sum(axis=1)[:, np.newaxis]\n",
        "print('Normalized confusion matrix')\n",
        "print(cm_normalized)\n",
        "plt.figure()\n",
        "plot_confusion_matrix(cm_normalized, signal, title='Normalized confusion matrix')\n",
        "plt.savefig('norm_cm2.png',dpi=150)\n",
        "plt.show()"
      ],
      "execution_count": 0,
      "outputs": [
        {
          "output_type": "stream",
          "text": [
            "Confusion matrix, without normalization\n",
            "[[690 197]\n",
            " [322 519]]\n",
            "Normalized confusion matrix\n",
            "[[0.78 0.22]\n",
            " [0.38 0.62]]\n"
          ],
          "name": "stdout"
        },
        {
          "output_type": "display_data",
          "data": {
            "image/png": "[encoded data removed]",
            "text/plain": [
              "<Figure size 432x288 with 2 Axes>"
            ]
          },
          "metadata": {
            "tags": []
          }
        },
        {
          "output_type": "display_data",
          "data": {
            "image/png": "[encoded data removed]",
            "text/plain": [
              "<Figure size 432x288 with 2 Axes>"
            ]
          },
          "metadata": {
            "tags": []
          }
        }
      ]
    },
    {
      "cell_type": "code",
      "metadata": {
        "id": "_68Es5fvAthO",
        "colab_type": "code",
        "outputId": "68a7039b-f64a-4032-8dd6-d1d5f9f4656a",
        "colab": {
          "base_uri": "https://localhost:8080/",
          "height": 204
        }
      },
      "source": [
        "print(confusion_matrix(y_holdout_compare, holdout_pred))  \n",
        "print(classification_report(y_holdout_compare, holdout_pred))"
      ],
      "execution_count": 0,
      "outputs": [
        {
          "output_type": "stream",
          "text": [
            "[[690 197]\n",
            " [322 519]]\n",
            "              precision    recall  f1-score   support\n",
            "\n",
            "           0       0.68      0.78      0.73       887\n",
            "           1       0.72      0.62      0.67       841\n",
            "\n",
            "    accuracy                           0.70      1728\n",
            "   macro avg       0.70      0.70      0.70      1728\n",
            "weighted avg       0.70      0.70      0.70      1728\n",
            "\n"
          ],
          "name": "stdout"
        }
      ]
    },
    {
      "cell_type": "code",
      "metadata": {
        "id": "OXHo0k1ZAthQ",
        "colab_type": "code",
        "outputId": "9cf61867-1f20-45a4-cfab-b73e3d009169",
        "colab": {
          "base_uri": "https://localhost:8080/",
          "height": 85
        }
      },
      "source": [
        "[[TP,FN],[FP,TN]]=cm\n",
        "\n",
        "Acc=((TP+TN)/(TP+TN+FP+FN)) * 100\n",
        "print(\"Overall Accuracy: \", Acc)\n",
        "\n",
        "Se=(TP)/(TP+FN)\n",
        "print(\"Sensitivity: \", Se*100)\n",
        "\n",
        "Sp=(TN)/(TN+FP)\n",
        "print(\"Specificity: \",Sp*100)\n",
        "\n",
        "ER=(FP+FN)/(TP+TN+FP+FN)\n",
        "print(\"Error Rate: \",ER*100)"
      ],
      "execution_count": 0,
      "outputs": [
        {
          "output_type": "stream",
          "text": [
            "Overall Accuracy:  69.96527777777779\n",
            "Sensitivity:  77.7903043968433\n",
            "Specificity:  61.71224732461356\n",
            "Error Rate:  30.03472222222222\n"
          ],
          "name": "stdout"
        }
      ]
    },
    {
      "cell_type": "markdown",
      "metadata": {
        "id": "-QtYQpoIAthT",
        "colab_type": "text"
      },
      "source": [
        "## ROC Chart"
      ]
    },
    {
      "cell_type": "code",
      "metadata": {
        "id": "w1ywMWHsAthU",
        "colab_type": "code",
        "outputId": "ce80a511-8617-4699-c9b3-93df78866bfe",
        "colab": {
          "base_uri": "https://localhost:8080/",
          "height": 346
        }
      },
      "source": [
        "holdout_pred = model.predict(X_holdout)\n",
        "holdout_pred = holdout_pred[:,1] # Only positive cases\n",
        "fig = plt.figure()\n",
        "plt.figure()\n",
        "\n",
        "plot_roc(holdout_pred, y_holdout_compare)\n",
        "plt.savefig('roc2.png',dpi=150)\n",
        "plt.show()"
      ],
      "execution_count": 0,
      "outputs": [
        {
          "output_type": "display_data",
          "data": {
            "text/plain": [
              "<Figure size 432x288 with 0 Axes>"
            ]
          },
          "metadata": {
            "tags": []
          }
        },
        {
          "output_type": "display_data",
          "data": {
            "text/plain": [
              "<Figure size 432x288 with 0 Axes>"
            ]
          },
          "metadata": {
            "tags": []
          }
        },
        {
          "output_type": "display_data",
          "data": {
            "image/png": "[encoded data removed]",
            "text/plain": [
              "<Figure size 432x288 with 1 Axes>"
            ]
          },
          "metadata": {
            "tags": []
          }
        },
        {
          "output_type": "display_data",
          "data": {
            "text/plain": [
              "<Figure size 432x288 with 0 Axes>"
            ]
          },
          "metadata": {
            "tags": []
          }
        }
      ]
    },
    {
      "cell_type": "code",
      "metadata": {
        "id": "K-gX_J9XAthX",
        "colab_type": "code",
        "colab": {}
      },
      "source": [
        "model.save('Bangla_English.h5')"
      ],
      "execution_count": 0,
      "outputs": []
    },
    {
      "cell_type": "code",
      "metadata": {
        "id": "MFneVuzcAtha",
        "colab_type": "code",
        "outputId": "ede1c616-b689-465f-f95a-0432d300cb2c",
        "colab": {
          "base_uri": "https://localhost:8080/",
          "height": 1000
        }
      },
      "source": [
        "from keras.utils import plot_model\n",
        "plot_model(model,show_shapes = True, to_file = 'model_10.png')"
      ],
      "execution_count": 0,
      "outputs": [
        {
          "output_type": "execute_result",
          "data": {
            "image/png": "[encoded data removed]",
            "text/plain": [
              "<IPython.core.display.Image object>"
            ]
          },
          "metadata": {
            "tags": []
          },
          "execution_count": 40
        }
      ]
    },
    {
      "cell_type": "code",
      "metadata": {
        "id": "5ReVeIicAthd",
        "colab_type": "code",
        "colab": {}
      },
      "source": [
        ""
      ],
      "execution_count": 0,
      "outputs": []
    },
    {
      "cell_type": "code",
      "metadata": {
        "id": "4ri42LBkAthg",
        "colab_type": "code",
        "outputId": "c9b7dd4f-26e6-495c-8148-b1b29c0a70af",
        "colab": {
          "base_uri": "https://localhost:8080/",
          "height": 490
        }
      },
      "source": [
        "###### import model #####\n",
        "\n",
        "import time\n",
        "tic=time.time()\n",
        "from keras.models import load_model\n",
        "my_model=load_model('Bangla_English.h5')\n",
        "toc=time.time()\n",
        "print(str(1000*(toc-tic))+\"ms\")\n"
      ],
      "execution_count": 0,
      "outputs": [
        {
          "output_type": "error",
          "ename": "OSError",
          "evalue": "ignored",
          "traceback": [
            "\u001b[0;31m---------------------------------------------------------------------------\u001b[0m",
            "\u001b[0;31mOSError\u001b[0m                                   Traceback (most recent call last)",
            "\u001b[0;32m<ipython-input-3-81fe3afbf5ed>\u001b[0m in \u001b[0;36m<module>\u001b[0;34m()\u001b[0m\n\u001b[1;32m      3\u001b[0m \u001b[0mtic\u001b[0m\u001b[0;34m=\u001b[0m\u001b[0mtime\u001b[0m\u001b[0;34m.\u001b[0m\u001b[0mtime\u001b[0m\u001b[0;34m(\u001b[0m\u001b[0;34m)\u001b[0m\u001b[0;34m\u001b[0m\u001b[0;34m\u001b[0m\u001b[0m\n\u001b[1;32m      4\u001b[0m \u001b[0;32mfrom\u001b[0m \u001b[0mkeras\u001b[0m\u001b[0;34m.\u001b[0m\u001b[0mmodels\u001b[0m \u001b[0;32mimport\u001b[0m \u001b[0mload_model\u001b[0m\u001b[0;34m\u001b[0m\u001b[0;34m\u001b[0m\u001b[0m\n\u001b[0;32m----> 5\u001b[0;31m \u001b[0mmy_model\u001b[0m\u001b[0;34m=\u001b[0m\u001b[0mload_model\u001b[0m\u001b[0;34m(\u001b[0m\u001b[0;34m'Bangla_English.h5'\u001b[0m\u001b[0;34m)\u001b[0m\u001b[0;34m\u001b[0m\u001b[0;34m\u001b[0m\u001b[0m\n\u001b[0m\u001b[1;32m      6\u001b[0m \u001b[0mtoc\u001b[0m\u001b[0;34m=\u001b[0m\u001b[0mtime\u001b[0m\u001b[0;34m.\u001b[0m\u001b[0mtime\u001b[0m\u001b[0;34m(\u001b[0m\u001b[0;34m)\u001b[0m\u001b[0;34m\u001b[0m\u001b[0;34m\u001b[0m\u001b[0m\n\u001b[1;32m      7\u001b[0m \u001b[0mprint\u001b[0m\u001b[0;34m(\u001b[0m\u001b[0mstr\u001b[0m\u001b[0;34m(\u001b[0m\u001b[0;36m1000\u001b[0m\u001b[0;34m*\u001b[0m\u001b[0;34m(\u001b[0m\u001b[0mtoc\u001b[0m\u001b[0;34m-\u001b[0m\u001b[0mtic\u001b[0m\u001b[0;34m)\u001b[0m\u001b[0;34m)\u001b[0m\u001b[0;34m+\u001b[0m\u001b[0;34m\"ms\"\u001b[0m\u001b[0;34m)\u001b[0m\u001b[0;34m\u001b[0m\u001b[0;34m\u001b[0m\u001b[0m\n",
            "\u001b[0;32m/usr/local/lib/python3.6/dist-packages/keras/engine/saving.py\u001b[0m in \u001b[0;36mload_wrapper\u001b[0;34m(*args, **kwargs)\u001b[0m\n\u001b[1;32m    456\u001b[0m                 \u001b[0mos\u001b[0m\u001b[0;34m.\u001b[0m\u001b[0mremove\u001b[0m\u001b[0;34m(\u001b[0m\u001b[0mtmp_filepath\u001b[0m\u001b[0;34m)\u001b[0m\u001b[0;34m\u001b[0m\u001b[0;34m\u001b[0m\u001b[0m\n\u001b[1;32m    457\u001b[0m             \u001b[0;32mreturn\u001b[0m \u001b[0mres\u001b[0m\u001b[0;34m\u001b[0m\u001b[0;34m\u001b[0m\u001b[0m\n\u001b[0;32m--> 458\u001b[0;31m         \u001b[0;32mreturn\u001b[0m \u001b[0mload_function\u001b[0m\u001b[0;34m(\u001b[0m\u001b[0;34m*\u001b[0m\u001b[0margs\u001b[0m\u001b[0;34m,\u001b[0m \u001b[0;34m**\u001b[0m\u001b[0mkwargs\u001b[0m\u001b[0;34m)\u001b[0m\u001b[0;34m\u001b[0m\u001b[0;34m\u001b[0m\u001b[0m\n\u001b[0m\u001b[1;32m    459\u001b[0m \u001b[0;34m\u001b[0m\u001b[0m\n\u001b[1;32m    460\u001b[0m     \u001b[0;32mreturn\u001b[0m \u001b[0mload_wrapper\u001b[0m\u001b[0;34m\u001b[0m\u001b[0;34m\u001b[0m\u001b[0m\n",
            "\u001b[0;32m/usr/local/lib/python3.6/dist-packages/keras/engine/saving.py\u001b[0m in \u001b[0;36mload_model\u001b[0;34m(filepath, custom_objects, compile)\u001b[0m\n\u001b[1;32m    547\u001b[0m \u001b[0;34m\u001b[0m\u001b[0m\n\u001b[1;32m    548\u001b[0m     \u001b[0;32mif\u001b[0m \u001b[0mH5Dict\u001b[0m\u001b[0;34m.\u001b[0m\u001b[0mis_supported_type\u001b[0m\u001b[0;34m(\u001b[0m\u001b[0mfilepath\u001b[0m\u001b[0;34m)\u001b[0m\u001b[0;34m:\u001b[0m\u001b[0;34m\u001b[0m\u001b[0;34m\u001b[0m\u001b[0m\n\u001b[0;32m--> 549\u001b[0;31m         \u001b[0;32mwith\u001b[0m \u001b[0mH5Dict\u001b[0m\u001b[0;34m(\u001b[0m\u001b[0mfilepath\u001b[0m\u001b[0;34m,\u001b[0m \u001b[0mmode\u001b[0m\u001b[0;34m=\u001b[0m\u001b[0;34m'r'\u001b[0m\u001b[0;34m)\u001b[0m \u001b[0;32mas\u001b[0m \u001b[0mh5dict\u001b[0m\u001b[0;34m:\u001b[0m\u001b[0;34m\u001b[0m\u001b[0;34m\u001b[0m\u001b[0m\n\u001b[0m\u001b[1;32m    550\u001b[0m             \u001b[0mmodel\u001b[0m \u001b[0;34m=\u001b[0m \u001b[0m_deserialize_model\u001b[0m\u001b[0;34m(\u001b[0m\u001b[0mh5dict\u001b[0m\u001b[0;34m,\u001b[0m \u001b[0mcustom_objects\u001b[0m\u001b[0;34m,\u001b[0m \u001b[0mcompile\u001b[0m\u001b[0;34m)\u001b[0m\u001b[0;34m\u001b[0m\u001b[0;34m\u001b[0m\u001b[0m\n\u001b[1;32m    551\u001b[0m     \u001b[0;32melif\u001b[0m \u001b[0mhasattr\u001b[0m\u001b[0;34m(\u001b[0m\u001b[0mfilepath\u001b[0m\u001b[0;34m,\u001b[0m \u001b[0;34m'write'\u001b[0m\u001b[0;34m)\u001b[0m \u001b[0;32mand\u001b[0m \u001b[0mcallable\u001b[0m\u001b[0;34m(\u001b[0m\u001b[0mfilepath\u001b[0m\u001b[0;34m.\u001b[0m\u001b[0mwrite\u001b[0m\u001b[0;34m)\u001b[0m\u001b[0;34m:\u001b[0m\u001b[0;34m\u001b[0m\u001b[0;34m\u001b[0m\u001b[0m\n",
            "\u001b[0;32m/usr/local/lib/python3.6/dist-packages/keras/utils/io_utils.py\u001b[0m in \u001b[0;36m__init__\u001b[0;34m(self, path, mode)\u001b[0m\n\u001b[1;32m    189\u001b[0m             \u001b[0mself\u001b[0m\u001b[0;34m.\u001b[0m\u001b[0m_is_file\u001b[0m \u001b[0;34m=\u001b[0m \u001b[0;32mFalse\u001b[0m\u001b[0;34m\u001b[0m\u001b[0;34m\u001b[0m\u001b[0m\n\u001b[1;32m    190\u001b[0m         \u001b[0;32melif\u001b[0m \u001b[0misinstance\u001b[0m\u001b[0;34m(\u001b[0m\u001b[0mpath\u001b[0m\u001b[0;34m,\u001b[0m \u001b[0msix\u001b[0m\u001b[0;34m.\u001b[0m\u001b[0mstring_types\u001b[0m\u001b[0;34m)\u001b[0m \u001b[0;32mor\u001b[0m \u001b[0m_is_path_instance\u001b[0m\u001b[0;34m(\u001b[0m\u001b[0mpath\u001b[0m\u001b[0;34m)\u001b[0m\u001b[0;34m:\u001b[0m\u001b[0;34m\u001b[0m\u001b[0;34m\u001b[0m\u001b[0m\n\u001b[0;32m--> 191\u001b[0;31m             \u001b[0mself\u001b[0m\u001b[0;34m.\u001b[0m\u001b[0mdata\u001b[0m \u001b[0;34m=\u001b[0m \u001b[0mh5py\u001b[0m\u001b[0;34m.\u001b[0m\u001b[0mFile\u001b[0m\u001b[0;34m(\u001b[0m\u001b[0mpath\u001b[0m\u001b[0;34m,\u001b[0m \u001b[0mmode\u001b[0m\u001b[0;34m=\u001b[0m\u001b[0mmode\u001b[0m\u001b[0;34m)\u001b[0m\u001b[0;34m\u001b[0m\u001b[0;34m\u001b[0m\u001b[0m\n\u001b[0m\u001b[1;32m    192\u001b[0m             \u001b[0mself\u001b[0m\u001b[0;34m.\u001b[0m\u001b[0m_is_file\u001b[0m \u001b[0;34m=\u001b[0m \u001b[0;32mTrue\u001b[0m\u001b[0;34m\u001b[0m\u001b[0;34m\u001b[0m\u001b[0m\n\u001b[1;32m    193\u001b[0m         \u001b[0;32melif\u001b[0m \u001b[0misinstance\u001b[0m\u001b[0;34m(\u001b[0m\u001b[0mpath\u001b[0m\u001b[0;34m,\u001b[0m \u001b[0mdict\u001b[0m\u001b[0;34m)\u001b[0m\u001b[0;34m:\u001b[0m\u001b[0;34m\u001b[0m\u001b[0;34m\u001b[0m\u001b[0m\n",
            "\u001b[0;32m/usr/local/lib/python3.6/dist-packages/h5py/_hl/files.py\u001b[0m in \u001b[0;36m__init__\u001b[0;34m(self, name, mode, driver, libver, userblock_size, swmr, **kwds)\u001b[0m\n\u001b[1;32m    310\u001b[0m             \u001b[0;32mwith\u001b[0m \u001b[0mphil\u001b[0m\u001b[0;34m:\u001b[0m\u001b[0;34m\u001b[0m\u001b[0;34m\u001b[0m\u001b[0m\n\u001b[1;32m    311\u001b[0m                 \u001b[0mfapl\u001b[0m \u001b[0;34m=\u001b[0m \u001b[0mmake_fapl\u001b[0m\u001b[0;34m(\u001b[0m\u001b[0mdriver\u001b[0m\u001b[0;34m,\u001b[0m \u001b[0mlibver\u001b[0m\u001b[0;34m,\u001b[0m \u001b[0;34m**\u001b[0m\u001b[0mkwds\u001b[0m\u001b[0;34m)\u001b[0m\u001b[0;34m\u001b[0m\u001b[0;34m\u001b[0m\u001b[0m\n\u001b[0;32m--> 312\u001b[0;31m                 \u001b[0mfid\u001b[0m \u001b[0;34m=\u001b[0m \u001b[0mmake_fid\u001b[0m\u001b[0;34m(\u001b[0m\u001b[0mname\u001b[0m\u001b[0;34m,\u001b[0m \u001b[0mmode\u001b[0m\u001b[0;34m,\u001b[0m \u001b[0muserblock_size\u001b[0m\u001b[0;34m,\u001b[0m \u001b[0mfapl\u001b[0m\u001b[0;34m,\u001b[0m \u001b[0mswmr\u001b[0m\u001b[0;34m=\u001b[0m\u001b[0mswmr\u001b[0m\u001b[0;34m)\u001b[0m\u001b[0;34m\u001b[0m\u001b[0;34m\u001b[0m\u001b[0m\n\u001b[0m\u001b[1;32m    313\u001b[0m \u001b[0;34m\u001b[0m\u001b[0m\n\u001b[1;32m    314\u001b[0m                 \u001b[0;32mif\u001b[0m \u001b[0mswmr_support\u001b[0m\u001b[0;34m:\u001b[0m\u001b[0;34m\u001b[0m\u001b[0;34m\u001b[0m\u001b[0m\n",
            "\u001b[0;32m/usr/local/lib/python3.6/dist-packages/h5py/_hl/files.py\u001b[0m in \u001b[0;36mmake_fid\u001b[0;34m(name, mode, userblock_size, fapl, fcpl, swmr)\u001b[0m\n\u001b[1;32m    140\u001b[0m         \u001b[0;32mif\u001b[0m \u001b[0mswmr\u001b[0m \u001b[0;32mand\u001b[0m \u001b[0mswmr_support\u001b[0m\u001b[0;34m:\u001b[0m\u001b[0;34m\u001b[0m\u001b[0;34m\u001b[0m\u001b[0m\n\u001b[1;32m    141\u001b[0m             \u001b[0mflags\u001b[0m \u001b[0;34m|=\u001b[0m \u001b[0mh5f\u001b[0m\u001b[0;34m.\u001b[0m\u001b[0mACC_SWMR_READ\u001b[0m\u001b[0;34m\u001b[0m\u001b[0;34m\u001b[0m\u001b[0m\n\u001b[0;32m--> 142\u001b[0;31m         \u001b[0mfid\u001b[0m \u001b[0;34m=\u001b[0m \u001b[0mh5f\u001b[0m\u001b[0;34m.\u001b[0m\u001b[0mopen\u001b[0m\u001b[0;34m(\u001b[0m\u001b[0mname\u001b[0m\u001b[0;34m,\u001b[0m \u001b[0mflags\u001b[0m\u001b[0;34m,\u001b[0m \u001b[0mfapl\u001b[0m\u001b[0;34m=\u001b[0m\u001b[0mfapl\u001b[0m\u001b[0;34m)\u001b[0m\u001b[0;34m\u001b[0m\u001b[0;34m\u001b[0m\u001b[0m\n\u001b[0m\u001b[1;32m    143\u001b[0m     \u001b[0;32melif\u001b[0m \u001b[0mmode\u001b[0m \u001b[0;34m==\u001b[0m \u001b[0;34m'r+'\u001b[0m\u001b[0;34m:\u001b[0m\u001b[0;34m\u001b[0m\u001b[0;34m\u001b[0m\u001b[0m\n\u001b[1;32m    144\u001b[0m         \u001b[0mfid\u001b[0m \u001b[0;34m=\u001b[0m \u001b[0mh5f\u001b[0m\u001b[0;34m.\u001b[0m\u001b[0mopen\u001b[0m\u001b[0;34m(\u001b[0m\u001b[0mname\u001b[0m\u001b[0;34m,\u001b[0m \u001b[0mh5f\u001b[0m\u001b[0;34m.\u001b[0m\u001b[0mACC_RDWR\u001b[0m\u001b[0;34m,\u001b[0m \u001b[0mfapl\u001b[0m\u001b[0;34m=\u001b[0m\u001b[0mfapl\u001b[0m\u001b[0;34m)\u001b[0m\u001b[0;34m\u001b[0m\u001b[0;34m\u001b[0m\u001b[0m\n",
            "\u001b[0;32mh5py/_objects.pyx\u001b[0m in \u001b[0;36mh5py._objects.with_phil.wrapper\u001b[0;34m()\u001b[0m\n",
            "\u001b[0;32mh5py/_objects.pyx\u001b[0m in \u001b[0;36mh5py._objects.with_phil.wrapper\u001b[0;34m()\u001b[0m\n",
            "\u001b[0;32mh5py/h5f.pyx\u001b[0m in \u001b[0;36mh5py.h5f.open\u001b[0;34m()\u001b[0m\n",
            "\u001b[0;31mOSError\u001b[0m: Unable to open file (unable to open file: name = 'Bangla_English.h5', errno = 2, error message = 'No such file or directory', flags = 0, o_flags = 0)"
          ]
        }
      ]
    },
    {
      "cell_type": "code",
      "metadata": {
        "id": "vvpLbhjPAthm",
        "colab_type": "code",
        "outputId": "0186809c-19c0-44a5-e378-1f608f1d955a",
        "colab": {
          "base_uri": "https://localhost:8080/",
          "height": 455
        }
      },
      "source": [
        "## NOIZEUS CLEAN DATA AND RECORDED NOISY data testing .\n",
        "\n",
        "import pandas as pd\n",
        "import io\n",
        "import requests\n",
        "import numpy as np\n",
        "import os\n",
        "from sklearn.model_selection import train_test_split\n",
        "from sklearn import metrics\n",
        "from keras.models import Sequential\n",
        "from keras.layers.core import Dense, Activation\n",
        "from keras.callbacks import EarlyStopping\n",
        "\n",
        "#path = \"./data/\"\n",
        "\n",
        "#filename3 = os.path.join(path,\"Clean_norm_test_250ms.csv\")    \n",
        "df3 = pd.read_csv('Bangla_test.csv',na_values=['NA','?'])\n",
        "\n",
        "#filename4 = os.path.join(path,\"Noisy_test_250ms.csv\")    \n",
        "df4 = pd.read_csv('English_test.csv',na_values=['NA','?'])\n",
        "#frames = [df3, df4]\n",
        "#df5 = pd.concat(frames, keys=['x', 'y'])\n",
        "\n",
        "# Shuffle\n",
        "np.random.seed(42)\n",
        "df3 = df3.reindex(np.random.permutation(df3.index))\n",
        "df3.reset_index(inplace=True, drop=True)\n",
        "\n",
        "np.random.seed(42)\n",
        "df4 = df4.reindex(np.random.permutation(df4.index))\n",
        "df4.reset_index(inplace=True, drop=True)\n",
        "\n",
        "\n",
        "#signal = encode_text_index(df5,\"signal\")\n",
        "#x_holdout,y_holdout = to_xy(df5,\"signal\")\n",
        "\n"
      ],
      "execution_count": 0,
      "outputs": [
        {
          "output_type": "error",
          "ename": "FileNotFoundError",
          "evalue": "ignored",
          "traceback": [
            "\u001b[0;31m---------------------------------------------------------------------------\u001b[0m",
            "\u001b[0;31mFileNotFoundError\u001b[0m                         Traceback (most recent call last)",
            "\u001b[0;32m<ipython-input-4-7bcfd7a24af7>\u001b[0m in \u001b[0;36m<module>\u001b[0;34m()\u001b[0m\n\u001b[1;32m     14\u001b[0m \u001b[0;34m\u001b[0m\u001b[0m\n\u001b[1;32m     15\u001b[0m \u001b[0;31m#filename3 = os.path.join(path,\"Clean_norm_test_250ms.csv\")\u001b[0m\u001b[0;34m\u001b[0m\u001b[0;34m\u001b[0m\u001b[0;34m\u001b[0m\u001b[0m\n\u001b[0;32m---> 16\u001b[0;31m \u001b[0mdf3\u001b[0m \u001b[0;34m=\u001b[0m \u001b[0mpd\u001b[0m\u001b[0;34m.\u001b[0m\u001b[0mread_csv\u001b[0m\u001b[0;34m(\u001b[0m\u001b[0;34m'Bangla_test.csv'\u001b[0m\u001b[0;34m,\u001b[0m\u001b[0mna_values\u001b[0m\u001b[0;34m=\u001b[0m\u001b[0;34m[\u001b[0m\u001b[0;34m'NA'\u001b[0m\u001b[0;34m,\u001b[0m\u001b[0;34m'?'\u001b[0m\u001b[0;34m]\u001b[0m\u001b[0;34m)\u001b[0m\u001b[0;34m\u001b[0m\u001b[0;34m\u001b[0m\u001b[0m\n\u001b[0m\u001b[1;32m     17\u001b[0m \u001b[0;34m\u001b[0m\u001b[0m\n\u001b[1;32m     18\u001b[0m \u001b[0;31m#filename4 = os.path.join(path,\"Noisy_test_250ms.csv\")\u001b[0m\u001b[0;34m\u001b[0m\u001b[0;34m\u001b[0m\u001b[0;34m\u001b[0m\u001b[0m\n",
            "\u001b[0;32m/usr/local/lib/python3.6/dist-packages/pandas/io/parsers.py\u001b[0m in \u001b[0;36mparser_f\u001b[0;34m(filepath_or_buffer, sep, delimiter, header, names, index_col, usecols, squeeze, prefix, mangle_dupe_cols, dtype, engine, converters, true_values, false_values, skipinitialspace, skiprows, skipfooter, nrows, na_values, keep_default_na, na_filter, verbose, skip_blank_lines, parse_dates, infer_datetime_format, keep_date_col, date_parser, dayfirst, cache_dates, iterator, chunksize, compression, thousands, decimal, lineterminator, quotechar, quoting, doublequote, escapechar, comment, encoding, dialect, error_bad_lines, warn_bad_lines, delim_whitespace, low_memory, memory_map, float_precision)\u001b[0m\n\u001b[1;32m    683\u001b[0m         )\n\u001b[1;32m    684\u001b[0m \u001b[0;34m\u001b[0m\u001b[0m\n\u001b[0;32m--> 685\u001b[0;31m         \u001b[0;32mreturn\u001b[0m \u001b[0m_read\u001b[0m\u001b[0;34m(\u001b[0m\u001b[0mfilepath_or_buffer\u001b[0m\u001b[0;34m,\u001b[0m \u001b[0mkwds\u001b[0m\u001b[0;34m)\u001b[0m\u001b[0;34m\u001b[0m\u001b[0;34m\u001b[0m\u001b[0m\n\u001b[0m\u001b[1;32m    686\u001b[0m \u001b[0;34m\u001b[0m\u001b[0m\n\u001b[1;32m    687\u001b[0m     \u001b[0mparser_f\u001b[0m\u001b[0;34m.\u001b[0m\u001b[0m__name__\u001b[0m \u001b[0;34m=\u001b[0m \u001b[0mname\u001b[0m\u001b[0;34m\u001b[0m\u001b[0;34m\u001b[0m\u001b[0m\n",
            "\u001b[0;32m/usr/local/lib/python3.6/dist-packages/pandas/io/parsers.py\u001b[0m in \u001b[0;36m_read\u001b[0;34m(filepath_or_buffer, kwds)\u001b[0m\n\u001b[1;32m    455\u001b[0m \u001b[0;34m\u001b[0m\u001b[0m\n\u001b[1;32m    456\u001b[0m     \u001b[0;31m# Create the parser.\u001b[0m\u001b[0;34m\u001b[0m\u001b[0;34m\u001b[0m\u001b[0;34m\u001b[0m\u001b[0m\n\u001b[0;32m--> 457\u001b[0;31m     \u001b[0mparser\u001b[0m \u001b[0;34m=\u001b[0m \u001b[0mTextFileReader\u001b[0m\u001b[0;34m(\u001b[0m\u001b[0mfp_or_buf\u001b[0m\u001b[0;34m,\u001b[0m \u001b[0;34m**\u001b[0m\u001b[0mkwds\u001b[0m\u001b[0;34m)\u001b[0m\u001b[0;34m\u001b[0m\u001b[0;34m\u001b[0m\u001b[0m\n\u001b[0m\u001b[1;32m    458\u001b[0m \u001b[0;34m\u001b[0m\u001b[0m\n\u001b[1;32m    459\u001b[0m     \u001b[0;32mif\u001b[0m \u001b[0mchunksize\u001b[0m \u001b[0;32mor\u001b[0m \u001b[0miterator\u001b[0m\u001b[0;34m:\u001b[0m\u001b[0;34m\u001b[0m\u001b[0;34m\u001b[0m\u001b[0m\n",
            "\u001b[0;32m/usr/local/lib/python3.6/dist-packages/pandas/io/parsers.py\u001b[0m in \u001b[0;36m__init__\u001b[0;34m(self, f, engine, **kwds)\u001b[0m\n\u001b[1;32m    893\u001b[0m             \u001b[0mself\u001b[0m\u001b[0;34m.\u001b[0m\u001b[0moptions\u001b[0m\u001b[0;34m[\u001b[0m\u001b[0;34m\"has_index_names\"\u001b[0m\u001b[0;34m]\u001b[0m \u001b[0;34m=\u001b[0m \u001b[0mkwds\u001b[0m\u001b[0;34m[\u001b[0m\u001b[0;34m\"has_index_names\"\u001b[0m\u001b[0;34m]\u001b[0m\u001b[0;34m\u001b[0m\u001b[0;34m\u001b[0m\u001b[0m\n\u001b[1;32m    894\u001b[0m \u001b[0;34m\u001b[0m\u001b[0m\n\u001b[0;32m--> 895\u001b[0;31m         \u001b[0mself\u001b[0m\u001b[0;34m.\u001b[0m\u001b[0m_make_engine\u001b[0m\u001b[0;34m(\u001b[0m\u001b[0mself\u001b[0m\u001b[0;34m.\u001b[0m\u001b[0mengine\u001b[0m\u001b[0;34m)\u001b[0m\u001b[0;34m\u001b[0m\u001b[0;34m\u001b[0m\u001b[0m\n\u001b[0m\u001b[1;32m    896\u001b[0m \u001b[0;34m\u001b[0m\u001b[0m\n\u001b[1;32m    897\u001b[0m     \u001b[0;32mdef\u001b[0m \u001b[0mclose\u001b[0m\u001b[0;34m(\u001b[0m\u001b[0mself\u001b[0m\u001b[0;34m)\u001b[0m\u001b[0;34m:\u001b[0m\u001b[0;34m\u001b[0m\u001b[0;34m\u001b[0m\u001b[0m\n",
            "\u001b[0;32m/usr/local/lib/python3.6/dist-packages/pandas/io/parsers.py\u001b[0m in \u001b[0;36m_make_engine\u001b[0;34m(self, engine)\u001b[0m\n\u001b[1;32m   1133\u001b[0m     \u001b[0;32mdef\u001b[0m \u001b[0m_make_engine\u001b[0m\u001b[0;34m(\u001b[0m\u001b[0mself\u001b[0m\u001b[0;34m,\u001b[0m \u001b[0mengine\u001b[0m\u001b[0;34m=\u001b[0m\u001b[0;34m\"c\"\u001b[0m\u001b[0;34m)\u001b[0m\u001b[0;34m:\u001b[0m\u001b[0;34m\u001b[0m\u001b[0;34m\u001b[0m\u001b[0m\n\u001b[1;32m   1134\u001b[0m         \u001b[0;32mif\u001b[0m \u001b[0mengine\u001b[0m \u001b[0;34m==\u001b[0m \u001b[0;34m\"c\"\u001b[0m\u001b[0;34m:\u001b[0m\u001b[0;34m\u001b[0m\u001b[0;34m\u001b[0m\u001b[0m\n\u001b[0;32m-> 1135\u001b[0;31m             \u001b[0mself\u001b[0m\u001b[0;34m.\u001b[0m\u001b[0m_engine\u001b[0m \u001b[0;34m=\u001b[0m \u001b[0mCParserWrapper\u001b[0m\u001b[0;34m(\u001b[0m\u001b[0mself\u001b[0m\u001b[0;34m.\u001b[0m\u001b[0mf\u001b[0m\u001b[0;34m,\u001b[0m \u001b[0;34m**\u001b[0m\u001b[0mself\u001b[0m\u001b[0;34m.\u001b[0m\u001b[0moptions\u001b[0m\u001b[0;34m)\u001b[0m\u001b[0;34m\u001b[0m\u001b[0;34m\u001b[0m\u001b[0m\n\u001b[0m\u001b[1;32m   1136\u001b[0m         \u001b[0;32melse\u001b[0m\u001b[0;34m:\u001b[0m\u001b[0;34m\u001b[0m\u001b[0;34m\u001b[0m\u001b[0m\n\u001b[1;32m   1137\u001b[0m             \u001b[0;32mif\u001b[0m \u001b[0mengine\u001b[0m \u001b[0;34m==\u001b[0m \u001b[0;34m\"python\"\u001b[0m\u001b[0;34m:\u001b[0m\u001b[0;34m\u001b[0m\u001b[0;34m\u001b[0m\u001b[0m\n",
            "\u001b[0;32m/usr/local/lib/python3.6/dist-packages/pandas/io/parsers.py\u001b[0m in \u001b[0;36m__init__\u001b[0;34m(self, src, **kwds)\u001b[0m\n\u001b[1;32m   1915\u001b[0m         \u001b[0mkwds\u001b[0m\u001b[0;34m[\u001b[0m\u001b[0;34m\"usecols\"\u001b[0m\u001b[0;34m]\u001b[0m \u001b[0;34m=\u001b[0m \u001b[0mself\u001b[0m\u001b[0;34m.\u001b[0m\u001b[0musecols\u001b[0m\u001b[0;34m\u001b[0m\u001b[0;34m\u001b[0m\u001b[0m\n\u001b[1;32m   1916\u001b[0m \u001b[0;34m\u001b[0m\u001b[0m\n\u001b[0;32m-> 1917\u001b[0;31m         \u001b[0mself\u001b[0m\u001b[0;34m.\u001b[0m\u001b[0m_reader\u001b[0m \u001b[0;34m=\u001b[0m \u001b[0mparsers\u001b[0m\u001b[0;34m.\u001b[0m\u001b[0mTextReader\u001b[0m\u001b[0;34m(\u001b[0m\u001b[0msrc\u001b[0m\u001b[0;34m,\u001b[0m \u001b[0;34m**\u001b[0m\u001b[0mkwds\u001b[0m\u001b[0;34m)\u001b[0m\u001b[0;34m\u001b[0m\u001b[0;34m\u001b[0m\u001b[0m\n\u001b[0m\u001b[1;32m   1918\u001b[0m         \u001b[0mself\u001b[0m\u001b[0;34m.\u001b[0m\u001b[0munnamed_cols\u001b[0m \u001b[0;34m=\u001b[0m \u001b[0mself\u001b[0m\u001b[0;34m.\u001b[0m\u001b[0m_reader\u001b[0m\u001b[0;34m.\u001b[0m\u001b[0munnamed_cols\u001b[0m\u001b[0;34m\u001b[0m\u001b[0;34m\u001b[0m\u001b[0m\n\u001b[1;32m   1919\u001b[0m \u001b[0;34m\u001b[0m\u001b[0m\n",
            "\u001b[0;32mpandas/_libs/parsers.pyx\u001b[0m in \u001b[0;36mpandas._libs.parsers.TextReader.__cinit__\u001b[0;34m()\u001b[0m\n",
            "\u001b[0;32mpandas/_libs/parsers.pyx\u001b[0m in \u001b[0;36mpandas._libs.parsers.TextReader._setup_parser_source\u001b[0;34m()\u001b[0m\n",
            "\u001b[0;31mFileNotFoundError\u001b[0m: [Errno 2] File b'Bangla_test.csv' does not exist: b'Bangla_test.csv'"
          ]
        }
      ]
    },
    {
      "cell_type": "code",
      "metadata": {
        "id": "SfDbf10tAthp",
        "colab_type": "code",
        "colab": {}
      },
      "source": [
        "#x_holdout = scaler.transform(x_holdout) "
      ],
      "execution_count": 0,
      "outputs": []
    },
    {
      "cell_type": "code",
      "metadata": {
        "id": "o7gqhFDfAths",
        "colab_type": "code",
        "colab": {}
      },
      "source": [
        "df3"
      ],
      "execution_count": 0,
      "outputs": []
    },
    {
      "cell_type": "code",
      "metadata": {
        "scrolled": false,
        "id": "r0-YyyJ4Athz",
        "colab_type": "code",
        "colab": {}
      },
      "source": [
        "df4"
      ],
      "execution_count": 0,
      "outputs": []
    },
    {
      "cell_type": "code",
      "metadata": {
        "id": "QalmLvDaAth3",
        "colab_type": "code",
        "colab": {}
      },
      "source": [
        "Total_clean = df3.shape[0]\n",
        "Total_noisy4 = df4.shape[0]"
      ],
      "execution_count": 0,
      "outputs": []
    },
    {
      "cell_type": "code",
      "metadata": {
        "id": "SoRvB0_CAth7",
        "colab_type": "code",
        "colab": {}
      },
      "source": [
        "Total_clean"
      ],
      "execution_count": 0,
      "outputs": []
    },
    {
      "cell_type": "code",
      "metadata": {
        "id": "WtwREFMOAth-",
        "colab_type": "code",
        "colab": {}
      },
      "source": [
        "Total_noisy4"
      ],
      "execution_count": 0,
      "outputs": []
    },
    {
      "cell_type": "code",
      "metadata": {
        "id": "KNWOqGeYAtiB",
        "colab_type": "code",
        "colab": {}
      },
      "source": [
        "\n",
        "x_holdout_clean = df3\n",
        "X_holdout_clean = np.expand_dims(x_holdout_clean, axis=2)\n",
        "\n",
        "x_holdout_noisy4 = df4\n",
        "X_holdout_noisy4 = np.expand_dims(x_holdout_noisy4, axis=2)\n",
        "\n",
        "\n"
      ],
      "execution_count": 0,
      "outputs": []
    },
    {
      "cell_type": "code",
      "metadata": {
        "id": "VwMye9fZAtiE",
        "colab_type": "code",
        "colab": {}
      },
      "source": [
        "# Prediction for clean data\n",
        "\n",
        "pred_clean = my_model.predict(X_holdout_clean)\n",
        "pred_clean = np.argmax(pred_clean,axis=1)\n",
        "clean_pred = 0\n",
        "for i in range (0,Total_clean):\n",
        "    if pred_clean[i] == 0: \n",
        "        clean_pred = clean_pred + 1   # clean =0 absence of noise\n",
        "          \n",
        "    \n"
      ],
      "execution_count": 0,
      "outputs": []
    },
    {
      "cell_type": "code",
      "metadata": {
        "id": "I4WxTydPAtiH",
        "colab_type": "code",
        "colab": {}
      },
      "source": [
        "# Prediction for noisy data\n",
        "\n",
        "pred_noisy4 = my_model.predict(X_holdout_noisy4)\n",
        "pred_noisy4 = np.argmax(pred_noisy4,axis=1)\n",
        "noisy_pred4 = 0\n",
        "for i in range (0,Total_noisy4):\n",
        "    if pred_noisy4[i] == 1: \n",
        "        noisy_pred4 = noisy_pred4 + 1   # noisy =1 presence of noise\n",
        "          \n",
        "    \n"
      ],
      "execution_count": 0,
      "outputs": []
    },
    {
      "cell_type": "code",
      "metadata": {
        "id": "zPmMsKLVAtiJ",
        "colab_type": "code",
        "colab": {}
      },
      "source": [
        "#######For clean signal ######\n",
        "\n",
        "Accuracy = clean_pred / (Total_clean)\n",
        "print(\"Total_frames:\",Total_clean)\n",
        "print(\"Predicted:\",clean_pred)\n",
        "print(\"Noisy\",Total_clean-clean_pred)\n",
        "print(\"Accuracy:\", Accuracy*100)\n",
        "print(\"Acurracy for noisy\", 100-(Accuracy*100))\n"
      ],
      "execution_count": 0,
      "outputs": []
    },
    {
      "cell_type": "code",
      "metadata": {
        "id": "2CcpMRioAtiL",
        "colab_type": "code",
        "colab": {}
      },
      "source": [
        "\n",
        "#######For Noisy signal ######\n",
        "Accuracy = noisy_pred4 / (Total_noisy4)\n",
        "print(\"For (cleanspeech + 0.1(Noise))\")\n",
        "print(\"Total_frames:\",Total_noisy4)\n",
        "print(\"Predicted:\",noisy_pred4)\n",
        "print(\"Noisefre\",Total_noisy4-noisy_pred4)\n",
        "print(\"Accuracy:\", Accuracy*100)\n",
        "print(\"Acurracy for noisefree\", 100-(Accuracy*100))\n",
        "print(\"\")\n"
      ],
      "execution_count": 0,
      "outputs": []
    },
    {
      "cell_type": "code",
      "metadata": {
        "id": "TcFl4V6nAtiN",
        "colab_type": "code",
        "colab": {}
      },
      "source": [
        ""
      ],
      "execution_count": 0,
      "outputs": []
    },
    {
      "cell_type": "code",
      "metadata": {
        "id": "u1HMaLrvAtiS",
        "colab_type": "code",
        "colab": {}
      },
      "source": [
        ""
      ],
      "execution_count": 0,
      "outputs": []
    },
    {
      "cell_type": "code",
      "metadata": {
        "id": "7MCqga1MAtiV",
        "colab_type": "code",
        "colab": {}
      },
      "source": [
        ""
      ],
      "execution_count": 0,
      "outputs": []
    },
    {
      "cell_type": "code",
      "metadata": {
        "id": "srWjDzLPAtiX",
        "colab_type": "code",
        "colab": {}
      },
      "source": [
        ""
      ],
      "execution_count": 0,
      "outputs": []
    },
    {
      "cell_type": "code",
      "metadata": {
        "id": "MHEOq7yNAtic",
        "colab_type": "code",
        "colab": {}
      },
      "source": [
        ""
      ],
      "execution_count": 0,
      "outputs": []
    },
    {
      "cell_type": "code",
      "metadata": {
        "id": "gJcgZ8pFAtie",
        "colab_type": "code",
        "colab": {}
      },
      "source": [
        ""
      ],
      "execution_count": 0,
      "outputs": []
    },
    {
      "cell_type": "code",
      "metadata": {
        "id": "eQo0KZiHAtig",
        "colab_type": "code",
        "colab": {}
      },
      "source": [
        ""
      ],
      "execution_count": 0,
      "outputs": []
    },
    {
      "cell_type": "code",
      "metadata": {
        "id": "brHdWLmMAtij",
        "colab_type": "code",
        "colab": {}
      },
      "source": [
        ""
      ],
      "execution_count": 0,
      "outputs": []
    },
    {
      "cell_type": "code",
      "metadata": {
        "id": "I-HEBIzxAtin",
        "colab_type": "code",
        "colab": {}
      },
      "source": [
        ""
      ],
      "execution_count": 0,
      "outputs": []
    },
    {
      "cell_type": "code",
      "metadata": {
        "id": "g_rb0w10Atiw",
        "colab_type": "code",
        "colab": {}
      },
      "source": [
        ""
      ],
      "execution_count": 0,
      "outputs": []
    },
    {
      "cell_type": "code",
      "metadata": {
        "id": "THm8oIUwAtiy",
        "colab_type": "code",
        "colab": {}
      },
      "source": [
        ""
      ],
      "execution_count": 0,
      "outputs": []
    },
    {
      "cell_type": "code",
      "metadata": {
        "id": "_oPwoloNAti3",
        "colab_type": "code",
        "colab": {}
      },
      "source": [
        ""
      ],
      "execution_count": 0,
      "outputs": []
    },
    {
      "cell_type": "code",
      "metadata": {
        "id": "s-3RLplJAti7",
        "colab_type": "code",
        "colab": {}
      },
      "source": [
        ""
      ],
      "execution_count": 0,
      "outputs": []
    },
    {
      "cell_type": "code",
      "metadata": {
        "id": "rfndqUE6Ati_",
        "colab_type": "code",
        "colab": {}
      },
      "source": [
        "## NOIZEUS CLEAN DATA AND RECORDED NOISY data testing .\n",
        "\n",
        "import pandas as pd\n",
        "import io\n",
        "import requests\n",
        "import numpy as np\n",
        "import os\n",
        "from sklearn.model_selection import train_test_split\n",
        "from sklearn import metrics\n",
        "from keras.models import Sequential\n",
        "from keras.layers.core import Dense, Activation\n",
        "from keras.callbacks import EarlyStopping\n",
        "\n",
        "path = \"./data/\"\n",
        "\n",
        "filename3 = os.path.join(path,\"FEMALE_testing_label.csv\")    \n",
        "df3 = pd.read_csv(filename3,na_values=['NA','?'])\n",
        "\n",
        "filename4 = os.path.join(path,\"0.1Fraction_label.csv\")    \n",
        "df4 = pd.read_csv(filename4,na_values=['NA','?'])\n",
        "frames = [df3, df4]\n",
        "df5 = pd.concat(frames, keys=['x', 'y'])\n",
        "\n",
        "# Shuffle\n",
        "np.random.seed(42)\n",
        "df5 = df5.reindex(np.random.permutation(df5.index))\n",
        "df5.reset_index(inplace=True, drop=True)\n",
        "\n",
        "\n",
        "signal = encode_text_index(df5,\"signal\")\n",
        "x_holdout01,y_holdout01 = to_xy(df5,\"signal\")\n",
        "\n",
        "\n",
        "\n",
        "\n",
        "\n",
        "\n",
        "filename02 = os.path.join(path,\"0.2Fraction_label.csv\")    \n",
        "df02 = pd.read_csv(filename02,na_values=['NA','?'])\n",
        "frames = [df3, df02]\n",
        "dfc02 = pd.concat(frames, keys=['x', 'y'])\n",
        "#shuffle\n",
        "np.random.seed(42)\n",
        "dfc02 = dfc02.reindex(np.random.permutation(dfc02.index))\n",
        "dfc02.reset_index(inplace=True, drop=True)\n",
        "signal = encode_text_index(dfc02,\"signal\")\n",
        "x_holdout02,y_holdout02 = to_xy(dfc02,\"signal\")\n",
        "\n",
        "\n",
        "filename03 = os.path.join(path,\"0.3Fraction_label.csv\")    \n",
        "df03 = pd.read_csv(filename03,na_values=['NA','?'])\n",
        "frames = [df3, df03]\n",
        "dfc03 = pd.concat(frames, keys=['x', 'y'])\n",
        "#shuffle\n",
        "np.random.seed(42)\n",
        "dfc03 = dfc03.reindex(np.random.permutation(dfc03.index))\n",
        "dfc03.reset_index(inplace=True, drop=True)\n",
        "signal = encode_text_index(dfc03,\"signal\")\n",
        "x_holdout03,y_holdout03 = to_xy(dfc03,\"signal\")\n",
        "\n",
        "\n",
        "\n",
        "\n",
        "filename04 = os.path.join(path,\"0.4Fraction_label.csv\")    \n",
        "df04 = pd.read_csv(filename04,na_values=['NA','?'])\n",
        "frames = [df3, df04]\n",
        "dfc04 = pd.concat(frames, keys=['x', 'y'])\n",
        "#shuffle\n",
        "np.random.seed(42)\n",
        "dfc04 = dfc04.reindex(np.random.permutation(dfc04.index))\n",
        "dfc04.reset_index(inplace=True, drop=True)\n",
        "signal = encode_text_index(dfc04,\"signal\")\n",
        "x_holdout04,y_holdout04 = to_xy(dfc04,\"signal\")\n",
        "\n",
        "\n",
        "\n",
        "\n",
        "filename05 = os.path.join(path,\"0.5Fraction_label.csv\")    \n",
        "df05 = pd.read_csv(filename05,na_values=['NA','?'])\n",
        "frames = [df3, df05]\n",
        "dfc05 = pd.concat(frames, keys=['x', 'y'])\n",
        "#shuffle\n",
        "np.random.seed(42)\n",
        "dfc05 = dfc05.reindex(np.random.permutation(dfc05.index))\n",
        "dfc05.reset_index(inplace=True, drop=True)\n",
        "signal = encode_text_index(dfc05,\"signal\")\n",
        "x_holdout05,y_holdout05 = to_xy(dfc05,\"signal\")\n",
        "\n",
        "\n",
        "\n",
        "\n",
        "\n"
      ],
      "execution_count": 0,
      "outputs": []
    },
    {
      "cell_type": "code",
      "metadata": {
        "id": "w5tpytM8AtjB",
        "colab_type": "code",
        "colab": {}
      },
      "source": [
        "# Write the cross-validated prediction (from the last neural network)\n",
        "\n",
        "X_holdout01 = np.expand_dims(x_holdout01, axis=2)\n",
        "holdout_pred01 = my_model.predict(X_holdout01)\n",
        "score = metrics.log_loss(y_holdout01, holdout_pred01)\n",
        "print(\"Log loss score: {}\".format(score))\n",
        "\n",
        "# Measure accuracy\n",
        "holdout_pred01 = np.argmax(holdout_pred01, axis=1)\n",
        "y_holdout_compare01 = np.argmax(y_holdout01, axis=1)\n",
        "score = metrics.accuracy_score(y_holdout_compare01, holdout_pred01)\n",
        "print(\"Final accuracy: {}\".format(score))\n",
        "\n",
        "\n",
        "\n",
        "\n",
        "# Write the cross-validated prediction (from the last neural network)\n",
        "\n",
        "X_holdout02 = np.expand_dims(x_holdout02, axis=2)\n",
        "holdout_pred02 = my_model.predict(X_holdout02)\n",
        "score = metrics.log_loss(y_holdout02, holdout_pred02)\n",
        "print(\"Log loss score: {}\".format(score))\n",
        "\n",
        "# Measure accuracy\n",
        "holdout_pred02 = np.argmax(holdout_pred02, axis=1)\n",
        "y_holdout_compare02 = np.argmax(y_holdout02, axis=1)\n",
        "score = metrics.accuracy_score(y_holdout_compare02, holdout_pred02)\n",
        "print(\"Final accuracy: {}\".format(score))\n",
        "\n",
        "\n",
        "# Write the cross-validated prediction (from the last neural network)\n",
        "\n",
        "X_holdout03 = np.expand_dims(x_holdout03, axis=2)\n",
        "holdout_pred03 = my_model.predict(X_holdout03)\n",
        "score = metrics.log_loss(y_holdout03, holdout_pred03)\n",
        "print(\"Log loss score: {}\".format(score))\n",
        "\n",
        "# Measure accuracy\n",
        "holdout_pred03 = np.argmax(holdout_pred03, axis=1)\n",
        "y_holdout_compare03 = np.argmax(y_holdout03, axis=1)\n",
        "score = metrics.accuracy_score(y_holdout_compare03, holdout_pred03)\n",
        "print(\"Final accuracy: {}\".format(score))\n",
        "\n",
        "\n",
        "\n",
        "\n",
        "\n",
        "# Write the cross-validated prediction (from the last neural network)\n",
        "\n",
        "X_holdout04 = np.expand_dims(x_holdout04, axis=2)\n",
        "holdout_pred04 = my_model.predict(X_holdout04)\n",
        "score = metrics.log_loss(y_holdout04, holdout_pred04)\n",
        "print(\"Log loss score: {}\".format(score))\n",
        "\n",
        "# Measure accuracy\n",
        "holdout_pred04 = np.argmax(holdout_pred04, axis=1)\n",
        "y_holdout_compare04 = np.argmax(y_holdout04, axis=1)\n",
        "score = metrics.accuracy_score(y_holdout_compare04, holdout_pred04)\n",
        "print(\"Final accuracy: {}\".format(score))\n",
        "\n",
        "\n",
        "\n",
        "# Write the cross-validated prediction (from the last neural network)\n",
        "\n",
        "X_holdout05 = np.expand_dims(x_holdout05, axis=2)\n",
        "holdout_pred05 = my_model.predict(X_holdout05)\n",
        "score = metrics.log_loss(y_holdout05, holdout_pred05)\n",
        "print(\"Log loss score: {}\".format(score))\n",
        "\n",
        "# Measure accuracy\n",
        "holdout_pred05 = np.argmax(holdout_pred05, axis=1)\n",
        "y_holdout_compare05 = np.argmax(y_holdout05, axis=1)\n",
        "score = metrics.accuracy_score(y_holdout_compare05, holdout_pred05)\n",
        "print(\"Final accuracy: {}\".format(score))\n",
        "\n",
        "\n",
        "\n"
      ],
      "execution_count": 0,
      "outputs": []
    },
    {
      "cell_type": "code",
      "metadata": {
        "id": "FE8UWjFQAtjD",
        "colab_type": "code",
        "colab": {}
      },
      "source": [
        "import numpy as np\n",
        "\n",
        "from sklearn import svm, datasets\n",
        "from sklearn.model_selection import train_test_split\n",
        "from sklearn.metrics import confusion_matrix\n",
        "\n",
        "# Compute confusion matrix\n",
        "cm = confusion_matrix(y_holdout_compare01, holdout_pred01)\n",
        "np.set_printoptions(precision=2)\n",
        "print('Confusion matrix, without normalization')\n",
        "print(cm)\n",
        "plt.figure()\n",
        "plot_confusion_matrix(cm, signal)\n",
        "plt.savefig('0.1Fraction.png',dpi=150)\n",
        "print('')\n",
        "[[TP,FN],[FP,TN]]=cm\n",
        "\n",
        "Acc=((TP+TN)/(TP+TN+FP+FN)) * 100\n",
        "print(\"Overall Accuracy: \", Acc)\n",
        "\n",
        "Se=(TP)/(TP+FN)\n",
        "print(\"Sensitivity: \", Se*100)\n",
        "\n",
        "Sp=(TN)/(TN+FP)\n",
        "print(\"Specificity: \",Sp*100)\n",
        "\n",
        "ER=(FP+FN)/(TP+TN+FP+FN)\n",
        "print(\"Error Rate: \",ER*100)\n",
        "print('')\n",
        "print('')\n",
        "\n",
        "\n",
        "# Compute confusion matrix\n",
        "cm = confusion_matrix(y_holdout_compare02, holdout_pred02)\n",
        "np.set_printoptions(precision=2)\n",
        "print('Confusion matrix, without normalization')\n",
        "print(cm)\n",
        "plt.figure()\n",
        "plot_confusion_matrix(cm, signal)\n",
        "plt.savefig('0.2Fraction.png',dpi=150)\n",
        "print('')\n",
        "[[TP,FN],[FP,TN]]=cm\n",
        "\n",
        "Acc=((TP+TN)/(TP+TN+FP+FN)) * 100\n",
        "print(\"Overall Accuracy: \", Acc)\n",
        "\n",
        "Se=(TP)/(TP+FN)\n",
        "print(\"Sensitivity: \", Se*100)\n",
        "\n",
        "Sp=(TN)/(TN+FP)\n",
        "print(\"Specificity: \",Sp*100)\n",
        "\n",
        "ER=(FP+FN)/(TP+TN+FP+FN)\n",
        "print(\"Error Rate: \",ER*100)\n",
        "print('')\n",
        "print('')\n",
        "\n",
        "\n",
        "\n",
        "\n",
        "\n",
        "\n",
        "# Compute confusion matrix\n",
        "cm = confusion_matrix(y_holdout_compare03, holdout_pred03)\n",
        "np.set_printoptions(precision=2)\n",
        "print('Confusion matrix, without normalization')\n",
        "print(cm)\n",
        "plt.figure()\n",
        "plot_confusion_matrix(cm, signal)\n",
        "plt.savefig('0.3Fraction.png',dpi=150)\n",
        "print('')\n",
        "[[TP,FN],[FP,TN]]=cm\n",
        "\n",
        "Acc=((TP+TN)/(TP+TN+FP+FN)) * 100\n",
        "print(\"Overall Accuracy: \", Acc)\n",
        "\n",
        "Se=(TP)/(TP+FN)\n",
        "print(\"Sensitivity: \", Se*100)\n",
        "\n",
        "Sp=(TN)/(TN+FP)\n",
        "print(\"Specificity: \",Sp*100)\n",
        "\n",
        "ER=(FP+FN)/(TP+TN+FP+FN)\n",
        "print(\"Error Rate: \",ER*100)\n",
        "print('')\n",
        "print('')\n",
        "\n",
        "\n",
        "\n",
        "\n",
        "\n",
        "\n",
        "\n"
      ],
      "execution_count": 0,
      "outputs": []
    },
    {
      "cell_type": "code",
      "metadata": {
        "id": "-p7QGtuLAtjG",
        "colab_type": "code",
        "colab": {}
      },
      "source": [
        "# Compute confusion matrix\n",
        "cm = confusion_matrix(y_holdout_compare04, holdout_pred04)\n",
        "np.set_printoptions(precision=2)\n",
        "print('Confusion matrix, without normalization')\n",
        "print(cm)\n",
        "plt.figure()\n",
        "plot_confusion_matrix(cm, signal)\n",
        "plt.savefig('0.4Fraction.png',dpi=150)\n",
        "print('')\n",
        "[[TP,FN],[FP,TN]]=cm\n",
        "\n",
        "Acc=((TP+TN)/(TP+TN+FP+FN)) * 100\n",
        "print(\"Overall Accuracy: \", Acc)\n",
        "\n",
        "Se=(TP)/(TP+FN)\n",
        "print(\"Sensitivity: \", Se*100)\n",
        "\n",
        "Sp=(TN)/(TN+FP)\n",
        "print(\"Specificity: \",Sp*100)\n",
        "\n",
        "ER=(FP+FN)/(TP+TN+FP+FN)\n",
        "print(\"Error Rate: \",ER*100)\n",
        "print('')\n",
        "print('')\n",
        "\n",
        "\n",
        "\n",
        "\n",
        "\n",
        "# Compute confusion matrix\n",
        "cm = confusion_matrix(y_holdout_compare05, holdout_pred05)\n",
        "np.set_printoptions(precision=2)\n",
        "print('Confusion matrix, without normalization')\n",
        "print(cm)\n",
        "plt.figure()\n",
        "plot_confusion_matrix(cm, signal)\n",
        "plt.savefig('0.5Fraction.png',dpi=150)\n",
        "print('')\n",
        "[[TP,FN],[FP,TN]]=cm\n",
        "\n",
        "Acc=((TP+TN)/(TP+TN+FP+FN)) * 100\n",
        "print(\"Overall Accuracy: \", Acc)\n",
        "\n",
        "Se=(TP)/(TP+FN)\n",
        "print(\"Sensitivity: \", Se*100)\n",
        "\n",
        "Sp=(TN)/(TN+FP)\n",
        "print(\"Specificity: \",Sp*100)\n",
        "\n",
        "ER=(FP+FN)/(TP+TN+FP+FN)\n",
        "print(\"Error Rate: \",ER*100)\n",
        "print('')\n",
        "print('')\n",
        "\n"
      ],
      "execution_count": 0,
      "outputs": []
    },
    {
      "cell_type": "code",
      "metadata": {
        "id": "oaMMkZthAtjI",
        "colab_type": "code",
        "colab": {}
      },
      "source": [
        "filename06 = os.path.join(path,\"0.6Fraction_label.csv\")    \n",
        "df06 = pd.read_csv(filename06,na_values=['NA','?'])\n",
        "frames = [df3, df06]\n",
        "dfc06 = pd.concat(frames, keys=['x', 'y'])\n",
        "#shuffle\n",
        "np.random.seed(42)\n",
        "dfc06 = dfc06.reindex(np.random.permutation(dfc06.index))\n",
        "dfc06.reset_index(inplace=True, drop=True)\n",
        "signal = encode_text_index(dfc06,\"signal\")\n",
        "x_holdout06,y_holdout06 = to_xy(dfc06,\"signal\")\n",
        "\n",
        "\n",
        "\n",
        "\n",
        "\n",
        "filename07 = os.path.join(path,\"0.7Fraction_label.csv\")    \n",
        "df07 = pd.read_csv(filename07,na_values=['NA','?'])\n",
        "frames = [df3, df07]\n",
        "dfc07 = pd.concat(frames, keys=['x', 'y'])\n",
        "#shuffle\n",
        "np.random.seed(42)\n",
        "dfc07 = dfc07.reindex(np.random.permutation(dfc07.index))\n",
        "dfc07.reset_index(inplace=True, drop=True)\n",
        "signal = encode_text_index(dfc07,\"signal\")\n",
        "x_holdout07,y_holdout07 = to_xy(dfc07,\"signal\")\n",
        "\n",
        "\n",
        "\n",
        "\n",
        "\n",
        "filename08 = os.path.join(path,\"0.8Fraction_label.csv\")    \n",
        "df08 = pd.read_csv(filename08,na_values=['NA','?'])\n",
        "frames = [df3, df08]\n",
        "dfc08 = pd.concat(frames, keys=['x', 'y'])\n",
        "#shuffle\n",
        "np.random.seed(42)\n",
        "dfc08 = dfc08.reindex(np.random.permutation(dfc08.index))\n",
        "dfc08.reset_index(inplace=True, drop=True)\n",
        "signal = encode_text_index(dfc08,\"signal\")\n",
        "x_holdout08,y_holdout08 = to_xy(dfc08,\"signal\")\n",
        "\n",
        "\n",
        "\n",
        "\n",
        "\n",
        "\n",
        "filename09 = os.path.join(path,\"0.9Fraction_label.csv\")    \n",
        "df09 = pd.read_csv(filename09,na_values=['NA','?'])\n",
        "frames = [df3, df09]\n",
        "dfc09 = pd.concat(frames, keys=['x', 'y'])\n",
        "#shuffle\n",
        "np.random.seed(42)\n",
        "dfc09 = dfc09.reindex(np.random.permutation(dfc09.index))\n",
        "dfc09.reset_index(inplace=True, drop=True)\n",
        "signal = encode_text_index(dfc09,\"signal\")\n",
        "x_holdout09,y_holdout09 = to_xy(dfc09,\"signal\")\n",
        "\n",
        "\n",
        "\n",
        "\n",
        "filename11 = os.path.join(path,\"1Fraction_label.csv\")    \n",
        "df11 = pd.read_csv(filename11,na_values=['NA','?'])\n",
        "frames = [df3, df11]\n",
        "dfc011 = pd.concat(frames, keys=['x', 'y'])\n",
        "#shuffle\n",
        "np.random.seed(42)\n",
        "dfc011 = dfc011.reindex(np.random.permutation(dfc011.index))\n",
        "dfc011.reset_index(inplace=True, drop=True)\n",
        "signal = encode_text_index(dfc011,\"signal\")\n",
        "x_holdout11,y_holdout11 = to_xy(dfc011,\"signal\")"
      ],
      "execution_count": 0,
      "outputs": []
    },
    {
      "cell_type": "code",
      "metadata": {
        "id": "hwwHiOVbAtjK",
        "colab_type": "code",
        "colab": {}
      },
      "source": [
        "# Write the cross-validated prediction (from the last neural network)\n",
        "\n",
        "X_holdout06 = np.expand_dims(x_holdout06, axis=2)\n",
        "holdout_pred06 = my_model.predict(X_holdout06)\n",
        "score = metrics.log_loss(y_holdout06, holdout_pred06)\n",
        "print(\"Log loss score: {}\".format(score))\n",
        "\n",
        "# Measure accuracy\n",
        "holdout_pred06 = np.argmax(holdout_pred06, axis=1)\n",
        "y_holdout_compare06 = np.argmax(y_holdout06, axis=1)\n",
        "score = metrics.accuracy_score(y_holdout_compare06, holdout_pred06)\n",
        "print(\"Final accuracy: {}\".format(score))\n",
        "\n",
        "\n",
        "# Write the cross-validated prediction (from the last neural network)\n",
        "\n",
        "X_holdout07 = np.expand_dims(x_holdout07, axis=2)\n",
        "holdout_pred07 = my_model.predict(X_holdout07)\n",
        "score = metrics.log_loss(y_holdout07, holdout_pred07)\n",
        "print(\"Log loss score: {}\".format(score))\n",
        "\n",
        "# Measure accuracy\n",
        "holdout_pred07 = np.argmax(holdout_pred07, axis=1)\n",
        "y_holdout_compare07 = np.argmax(y_holdout07, axis=1)\n",
        "score = metrics.accuracy_score(y_holdout_compare07, holdout_pred07)\n",
        "print(\"Final accuracy: {}\".format(score))\n",
        "\n",
        "\n",
        "# Write the cross-validated prediction (from the last neural network)\n",
        "\n",
        "X_holdout08 = np.expand_dims(x_holdout08, axis=2)\n",
        "holdout_pred08 = my_model.predict(X_holdout08)\n",
        "score = metrics.log_loss(y_holdout08, holdout_pred08)\n",
        "print(\"Log loss score: {}\".format(score))\n",
        "\n",
        "# Measure accuracy\n",
        "holdout_pred08 = np.argmax(holdout_pred08, axis=1)\n",
        "y_holdout_compare08 = np.argmax(y_holdout08, axis=1)\n",
        "score = metrics.accuracy_score(y_holdout_compare08, holdout_pred08)\n",
        "print(\"Final accuracy: {}\".format(score))\n",
        "\n",
        "\n",
        "# Write the cross-validated prediction (from the last neural network)\n",
        "\n",
        "X_holdout09 = np.expand_dims(x_holdout09, axis=2)\n",
        "holdout_pred09 = my_model.predict(X_holdout09)\n",
        "score = metrics.log_loss(y_holdout09, holdout_pred09)\n",
        "print(\"Log loss score: {}\".format(score))\n",
        "\n",
        "# Measure accuracy\n",
        "holdout_pred09 = np.argmax(holdout_pred09, axis=1)\n",
        "y_holdout_compare09 = np.argmax(y_holdout09, axis=1)\n",
        "score = metrics.accuracy_score(y_holdout_compare09, holdout_pred09)\n",
        "print(\"Final accuracy: {}\".format(score))\n",
        "\n",
        "# Write the cross-validated prediction (from the last neural network)\n",
        "\n",
        "X_holdout11 = np.expand_dims(x_holdout11, axis=2)\n",
        "holdout_pred11 = my_model.predict(X_holdout11)\n",
        "score = metrics.log_loss(y_holdout11, holdout_pred11)\n",
        "print(\"Log loss score: {}\".format(score))\n",
        "\n",
        "# Measure accuracy\n",
        "holdout_pred11 = np.argmax(holdout_pred11, axis=1)\n",
        "y_holdout_compare11 = np.argmax(y_holdout11, axis=1)\n",
        "score = metrics.accuracy_score(y_holdout_compare11, holdout_pred11)\n",
        "print(\"Final accuracy: {}\".format(score))"
      ],
      "execution_count": 0,
      "outputs": []
    },
    {
      "cell_type": "code",
      "metadata": {
        "id": "pwl5XAUrAtjN",
        "colab_type": "code",
        "colab": {}
      },
      "source": [
        "# Compute confusion matrix\n",
        "cm = confusion_matrix(y_holdout_compare06, holdout_pred06)\n",
        "np.set_printoptions(precision=2)\n",
        "print('Confusion matrix, without normalization')\n",
        "print(cm)\n",
        "plt.figure()\n",
        "plot_confusion_matrix(cm, signal)\n",
        "plt.savefig('0.6Fraction.png',dpi=150)\n",
        "print('')\n",
        "[[TP,FN],[FP,TN]]=cm\n",
        "\n",
        "Acc=((TP+TN)/(TP+TN+FP+FN)) * 100\n",
        "print(\"Overall Accuracy: \", Acc)\n",
        "\n",
        "Se=(TP)/(TP+FN)\n",
        "print(\"Sensitivity: \", Se*100)\n",
        "\n",
        "Sp=(TN)/(TN+FP)\n",
        "print(\"Specificity: \",Sp*100)\n",
        "\n",
        "ER=(FP+FN)/(TP+TN+FP+FN)\n",
        "print(\"Error Rate: \",ER*100)\n",
        "print('')\n",
        "print('')\n",
        "\n",
        "\n",
        "# Compute confusion matrix\n",
        "cm = confusion_matrix(y_holdout_compare07, holdout_pred07)\n",
        "np.set_printoptions(precision=2)\n",
        "print('Confusion matrix, without normalization')\n",
        "print(cm)\n",
        "plt.figure()\n",
        "plot_confusion_matrix(cm, signal)\n",
        "plt.savefig('0.7Fraction.png',dpi=150)\n",
        "print('')\n",
        "[[TP,FN],[FP,TN]]=cm\n",
        "\n",
        "Acc=((TP+TN)/(TP+TN+FP+FN)) * 100\n",
        "print(\"Overall Accuracy: \", Acc)\n",
        "\n",
        "Se=(TP)/(TP+FN)\n",
        "print(\"Sensitivity: \", Se*100)\n",
        "\n",
        "Sp=(TN)/(TN+FP)\n",
        "print(\"Specificity: \",Sp*100)\n",
        "\n",
        "ER=(FP+FN)/(TP+TN+FP+FN)\n",
        "print(\"Error Rate: \",ER*100)\n",
        "print('')\n",
        "print('')\n",
        "\n",
        "\n"
      ],
      "execution_count": 0,
      "outputs": []
    },
    {
      "cell_type": "code",
      "metadata": {
        "id": "6Ye8E4UqAtjP",
        "colab_type": "code",
        "colab": {}
      },
      "source": [
        "\n",
        "# Compute confusion matrix\n",
        "cm = confusion_matrix(y_holdout_compare08, holdout_pred08)\n",
        "np.set_printoptions(precision=2)\n",
        "print('Confusion matrix, without normalization')\n",
        "print(cm)\n",
        "plt.figure()\n",
        "plot_confusion_matrix(cm, signal)\n",
        "plt.savefig('0.8Fraction.png',dpi=150)\n",
        "print('')\n",
        "[[TP,FN],[FP,TN]]=cm\n",
        "\n",
        "Acc=((TP+TN)/(TP+TN+FP+FN)) * 100\n",
        "print(\"Overall Accuracy: \", Acc)\n",
        "\n",
        "Se=(TP)/(TP+FN)\n",
        "print(\"Sensitivity: \", Se*100)\n",
        "\n",
        "Sp=(TN)/(TN+FP)\n",
        "print(\"Specificity: \",Sp*100)\n",
        "\n",
        "ER=(FP+FN)/(TP+TN+FP+FN)\n",
        "print(\"Error Rate: \",ER*100)\n",
        "print('')\n",
        "print('')\n",
        "\n",
        "\n",
        "# Compute confusion matrix\n",
        "cm = confusion_matrix(y_holdout_compare09, holdout_pred09)\n",
        "np.set_printoptions(precision=2)\n",
        "print('Confusion matrix, without normalization')\n",
        "print(cm)\n",
        "plt.figure()\n",
        "plot_confusion_matrix(cm, signal)\n",
        "plt.savefig('0.9Fraction.png',dpi=150)\n",
        "print('')\n",
        "[[TP,FN],[FP,TN]]=cm\n",
        "\n",
        "Acc=((TP+TN)/(TP+TN+FP+FN)) * 100\n",
        "print(\"Overall Accuracy: \", Acc)\n",
        "\n",
        "Se=(TP)/(TP+FN)\n",
        "print(\"Sensitivity: \", Se*100)\n",
        "\n",
        "Sp=(TN)/(TN+FP)\n",
        "print(\"Specificity: \",Sp*100)\n",
        "\n",
        "ER=(FP+FN)/(TP+TN+FP+FN)\n",
        "print(\"Error Rate: \",ER*100)\n",
        "print('')\n",
        "print('')\n",
        "\n",
        "\n",
        "# Compute confusion matrix\n",
        "cm = confusion_matrix(y_holdout_compare11, holdout_pred11)\n",
        "np.set_printoptions(precision=2)\n",
        "print('Confusion matrix, without normalization')\n",
        "print(cm)\n",
        "plt.figure()\n",
        "plot_confusion_matrix(cm, signal)\n",
        "plt.savefig('1Fraction.png',dpi=150)\n",
        "print('')\n",
        "[[TP,FN],[FP,TN]]=cm\n",
        "\n",
        "Acc=((TP+TN)/(TP+TN+FP+FN)) * 100\n",
        "print(\"Overall Accuracy: \", Acc)\n",
        "\n",
        "Se=(TP)/(TP+FN)\n",
        "print(\"Sensitivity: \", Se*100)\n",
        "\n",
        "Sp=(TN)/(TN+FP)\n",
        "print(\"Specificity: \",Sp*100)\n",
        "\n",
        "ER=(FP+FN)/(TP+TN+FP+FN)\n",
        "print(\"Error Rate: \",ER*100)\n",
        "print('')\n",
        "print('')\n",
        "\n"
      ],
      "execution_count": 0,
      "outputs": []
    },
    {
      "cell_type": "code",
      "metadata": {
        "id": "BPQzrcmDAtjR",
        "colab_type": "code",
        "colab": {}
      },
      "source": [
        "\n",
        "\n",
        "filename001 = os.path.join(path,\"0.001Fraction_label.csv\")    \n",
        "df001= pd.read_csv(filename001,na_values=['NA','?'])\n",
        "frames = [df3, df001]\n",
        "dfc001 = pd.concat(frames, keys=['x', 'y'])\n",
        "#shuffle\n",
        "np.random.seed(42)\n",
        "dfc001 = dfc001.reindex(np.random.permutation(dfc001.index))\n",
        "dfc001.reset_index(inplace=True, drop=True)\n",
        "signal = encode_text_index(dfc001,\"signal\")\n",
        "x_holdout001,y_holdout001 = to_xy(dfc001,\"signal\")\n",
        "\n",
        "\n",
        "filename005 = os.path.join(path,\"0.005Fraction_label.csv\")    \n",
        "df005 = pd.read_csv(filename005,na_values=['NA','?'])\n",
        "frames = [df3, df005]\n",
        "dfc005 = pd.concat(frames, keys=['x', 'y'])\n",
        "#shuffle\n",
        "np.random.seed(42)\n",
        "dfc005 = dfc005.reindex(np.random.permutation(dfc005.index))\n",
        "dfc005.reset_index(inplace=True, drop=True)\n",
        "signal = encode_text_index(dfc005,\"signal\")\n",
        "x_holdout005,y_holdout005 = to_xy(dfc005,\"signal\")\n",
        "\n",
        "# Write the cross-validated prediction (from the last neural network)\n",
        "\n",
        "X_holdout001 = np.expand_dims(x_holdout001, axis=2)\n",
        "holdout_pred001 = my_model.predict(X_holdout001)\n",
        "score = metrics.log_loss(y_holdout001, holdout_pred001)\n",
        "print(\"Log loss score: {}\".format(score))\n",
        "\n",
        "# Measure accuracy\n",
        "holdout_pred001 = np.argmax(holdout_pred001, axis=1)\n",
        "y_holdout_compare001 = np.argmax(y_holdout001, axis=1)\n",
        "score = metrics.accuracy_score(y_holdout_compare001, holdout_pred001)\n",
        "print(\"Final accuracy: {}\".format(score))\n",
        "\n",
        "\n",
        "# Write the cross-validated prediction (from the last neural network)\n",
        "\n",
        "X_holdout005 = np.expand_dims(x_holdout005, axis=2)\n",
        "holdout_pred005 = my_model.predict(X_holdout005)\n",
        "score = metrics.log_loss(y_holdout005, holdout_pred005)\n",
        "print(\"Log loss score: {}\".format(score))\n",
        "\n",
        "# Measure accuracy\n",
        "holdout_pred005 = np.argmax(holdout_pred005, axis=1)\n",
        "y_holdout_compare005 = np.argmax(y_holdout005, axis=1)\n",
        "score = metrics.accuracy_score(y_holdout_compare005, holdout_pred005)\n",
        "print(\"Final accuracy: {}\".format(score))"
      ],
      "execution_count": 0,
      "outputs": []
    },
    {
      "cell_type": "code",
      "metadata": {
        "id": "YCxqAeIoAtjU",
        "colab_type": "code",
        "colab": {}
      },
      "source": [
        "import numpy as np\n",
        "\n",
        "from sklearn import svm, datasets\n",
        "from sklearn.model_selection import train_test_split\n",
        "from sklearn.metrics import confusion_matrix\n",
        "# Compute confusion matrix\n",
        "cm = confusion_matrix(y_holdout_compare001, holdout_pred001)\n",
        "np.set_printoptions(precision=2)\n",
        "print('Confusion matrix, without normalization')\n",
        "print(cm)\n",
        "plt.figure()\n",
        "plot_confusion_matrix(cm, signal)\n",
        "plt.savefig('0.01Fraction.png',dpi=150)\n",
        "print('')\n",
        "[[TP,FN],[FP,TN]]=cm\n",
        "\n",
        "Acc=((TP+TN)/(TP+TN+FP+FN)) * 100\n",
        "print(\"Overall Accuracy: \", Acc)\n",
        "\n",
        "Se=(TP)/(TP+FN)\n",
        "print(\"Sensitivity: \", Se*100)\n",
        "\n",
        "Sp=(TN)/(TN+FP)\n",
        "print(\"Specificity: \",Sp*100)\n",
        "\n",
        "ER=(FP+FN)/(TP+TN+FP+FN)\n",
        "print(\"Error Rate: \",ER*100)\n",
        "print('')\n",
        "print('')\n",
        "\n",
        "\n",
        "# Compute confusion matrix\n",
        "cm = confusion_matrix(y_holdout_compare005, holdout_pred005)\n",
        "np.set_printoptions(precision=2)\n",
        "print('Confusion matrix, without normalization')\n",
        "print(cm)\n",
        "plt.figure()\n",
        "plot_confusion_matrix(cm, signal)\n",
        "plt.savefig('0.05Fraction.png',dpi=150)\n",
        "print('')\n",
        "[[TP,FN],[FP,TN]]=cm\n",
        "\n",
        "Acc=((TP+TN)/(TP+TN+FP+FN)) * 100\n",
        "print(\"Overall Accuracy: \", Acc)\n",
        "\n",
        "Se=(TP)/(TP+FN)\n",
        "print(\"Sensitivity: \", Se*100)\n",
        "\n",
        "Sp=(TN)/(TN+FP)\n",
        "print(\"Specificity: \",Sp*100)\n",
        "\n",
        "ER=(FP+FN)/(TP+TN+FP+FN)\n",
        "print(\"Error Rate: \",ER*100)\n",
        "print('')\n",
        "print('')\n"
      ],
      "execution_count": 0,
      "outputs": []
    },
    {
      "cell_type": "code",
      "metadata": {
        "id": "AOA_xE2RAtjW",
        "colab_type": "code",
        "colab": {}
      },
      "source": [
        "my_model.summary()\n"
      ],
      "execution_count": 0,
      "outputs": []
    },
    {
      "cell_type": "code",
      "metadata": {
        "id": "wfJgDkUdAtjY",
        "colab_type": "code",
        "colab": {}
      },
      "source": [
        ""
      ],
      "execution_count": 0,
      "outputs": []
    },
    {
      "cell_type": "code",
      "metadata": {
        "id": "lKonV705Atja",
        "colab_type": "code",
        "colab": {}
      },
      "source": [
        ""
      ],
      "execution_count": 0,
      "outputs": []
    },
    {
      "cell_type": "code",
      "metadata": {
        "id": "nGu7rVopAtjc",
        "colab_type": "code",
        "colab": {}
      },
      "source": [
        ""
      ],
      "execution_count": 0,
      "outputs": []
    }
  ]
}